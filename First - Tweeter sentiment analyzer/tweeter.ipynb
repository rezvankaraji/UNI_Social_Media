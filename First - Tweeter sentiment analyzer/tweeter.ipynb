{
  "nbformat": 4,
  "nbformat_minor": 0,
  "metadata": {
    "colab": {
      "name": "tweeter2.ipynb",
      "provenance": [],
      "collapsed_sections": []
    },
    "kernelspec": {
      "display_name": "Python 3",
      "name": "python3"
    }
  },
  "cells": [
    {
      "cell_type": "markdown",
      "metadata": {
        "id": "v85861_cqgIi"
      },
      "source": [
        "#Dependencies"
      ]
    },
    {
      "cell_type": "code",
      "metadata": {
        "id": "HZTGKqyr6RzT",
        "outputId": "1449ad77-0e6f-46b8-983a-17a19a134162",
        "colab": {
          "base_uri": "https://localhost:8080/"
        }
      },
      "source": [
        "import re\n",
        "import nltk\n",
        "import numpy as np\n",
        "import pandas as pd\n",
        "from nltk import word_tokenize \n",
        "import matplotlib.pyplot as plt\n",
        "from nltk.corpus import stopwords\n",
        "from nltk.stem import PorterStemmer\n",
        "from nltk.stem import WordNetLemmatizer\n",
        "from sklearn.feature_selection import chi2\n",
        "from sklearn.metrics import confusion_matrix\n",
        "from sklearn.metrics import classification_report\n",
        "from sklearn.neighbors import KNeighborsClassifier\n",
        "from sklearn.feature_extraction.text import TfidfVectorizer\n",
        "\n",
        "nltk.download('punkt')\n",
        "nltk.download('wordnet')\n",
        "nltk.download(\"stopwords\")"
      ],
      "execution_count": 262,
      "outputs": [
        {
          "output_type": "stream",
          "text": [
            "[nltk_data] Downloading package punkt to /root/nltk_data...\n",
            "[nltk_data]   Package punkt is already up-to-date!\n",
            "[nltk_data] Downloading package wordnet to /root/nltk_data...\n",
            "[nltk_data]   Package wordnet is already up-to-date!\n",
            "[nltk_data] Downloading package stopwords to /root/nltk_data...\n",
            "[nltk_data]   Package stopwords is already up-to-date!\n"
          ],
          "name": "stdout"
        },
        {
          "output_type": "execute_result",
          "data": {
            "text/plain": [
              "True"
            ]
          },
          "metadata": {
            "tags": []
          },
          "execution_count": 262
        }
      ]
    },
    {
      "cell_type": "markdown",
      "metadata": {
        "id": "8n8c_LmGKK2p"
      },
      "source": [
        "#Pre Processing"
      ]
    },
    {
      "cell_type": "markdown",
      "metadata": {
        "id": "h6YY_x5gMnL_"
      },
      "source": [
        "read from files and remove columns other than text and sentiment"
      ]
    },
    {
      "cell_type": "code",
      "metadata": {
        "id": "EGRP2ENY6iPj"
      },
      "source": [
        "directory = \"\"\n",
        "\n",
        "train_data = pd.read_csv(directory + \"airline-train.csv\")\n",
        "# Keeping only the neccessary columns\n",
        "train_data = train_data[[\"text\", \"airline_sentiment\"]]\n",
        "\n",
        "validation_data = pd.read_csv(directory + \"airline-dev.csv\")\n",
        "# Keeping only the neccessary columns\n",
        "validation_data = validation_data[[\"text\", \"airline_sentiment\"]]\n",
        "\n",
        "test_data = pd.read_csv(directory + \"airline-test.csv\")\n",
        "# Keeping only the neccessary columns\n",
        "test_data = test_data[[\"text\", \"airline_sentiment\"]]"
      ],
      "execution_count": 263,
      "outputs": []
    },
    {
      "cell_type": "code",
      "metadata": {
        "id": "a1B5KKJZqpcP",
        "outputId": "ea8edb25-e9bc-4adc-d4f0-47f5f6a4755d",
        "colab": {
          "base_uri": "https://localhost:8080/"
        }
      },
      "source": [
        "print(train_data)"
      ],
      "execution_count": 264,
      "outputs": [
        {
          "output_type": "stream",
          "text": [
            "                                                   text airline_sentiment\n",
            "0     @USAirways she also appreciated having her ver...          positive\n",
            "1     @USAirways Just discovered that they billed us...          negative\n",
            "2                                @USAirways u guys suck          negative\n",
            "3             @united I will but right now I'm to angry          negative\n",
            "4     @united not sure why the people in row 7 that ...          negative\n",
            "...                                                 ...               ...\n",
            "8779  @SouthwestAir flight 4040 atl to lga Cancelled...          negative\n",
            "8780  @JetBlue keeps getting better. No water on the...          negative\n",
            "8781  @USAirways @AmericanAir working for me. Tight ...          negative\n",
            "8782  @SouthwestAir are you guys alive? i've been on...          negative\n",
            "8783  @USAirways NEVER AGAIN! Worse experience in my...          negative\n",
            "\n",
            "[8784 rows x 2 columns]\n"
          ],
          "name": "stdout"
        }
      ]
    },
    {
      "cell_type": "markdown",
      "metadata": {
        "id": "1Iiz2ax7M2K7"
      },
      "source": [
        "remove IDs from tweets text"
      ]
    },
    {
      "cell_type": "code",
      "metadata": {
        "id": "YhjyTyx1NAVs"
      },
      "source": [
        "train_data.text = train_data.text.replace(to_replace =r'@([A-Za-z0-9_]+)', value = '', regex = True)\n",
        "validation_data.text = validation_data.text.replace(to_replace =r'@([A-Za-z0-9_]+)', value = '', regex = True) \n",
        "test_data.text = test_data.text.replace(to_replace =r'@([A-Za-z0-9_]+)', value = '', regex = True) "
      ],
      "execution_count": 265,
      "outputs": []
    },
    {
      "cell_type": "code",
      "metadata": {
        "id": "xl3FHoZzquJY",
        "outputId": "e72d6d92-f446-4693-f972-76f8348580d9",
        "colab": {
          "base_uri": "https://localhost:8080/"
        }
      },
      "source": [
        "print(train_data)"
      ],
      "execution_count": 266,
      "outputs": [
        {
          "output_type": "stream",
          "text": [
            "                                                   text airline_sentiment\n",
            "0      she also appreciated having her very own hash...          positive\n",
            "1      Just discovered that they billed us $300 for ...          negative\n",
            "2                                           u guys suck          negative\n",
            "3                     I will but right now I'm to angry          negative\n",
            "4      not sure why the people in row 7 that paid fo...          negative\n",
            "...                                                 ...               ...\n",
            "8779   flight 4040 atl to lga Cancelled Flightled an...          negative\n",
            "8780       keeps getting better. No water on the plane.          negative\n",
            "8781    working for me. Tight cx  so they're delayin...          negative\n",
            "8782   are you guys alive? i've been on hold for 25 ...          negative\n",
            "8783   NEVER AGAIN! Worse experience in my life. htt...          negative\n",
            "\n",
            "[8784 rows x 2 columns]\n"
          ],
          "name": "stdout"
        }
      ]
    },
    {
      "cell_type": "markdown",
      "metadata": {
        "id": "iXmRnoj_UWSO"
      },
      "source": [
        "remove numbers"
      ]
    },
    {
      "cell_type": "code",
      "metadata": {
        "id": "PJMc_nVKUbfZ"
      },
      "source": [
        "train_data.text = train_data.text.replace(to_replace =r\"\\d+\", value = ' ', regex = True) \n",
        "validation_data.text = validation_data.text.replace(to_replace =r\"\\d+\", value = ' ', regex = True) \n",
        "test_data.text = test_data.text.replace(to_replace =r\"\\d+\", value = ' ', regex = True) "
      ],
      "execution_count": 267,
      "outputs": []
    },
    {
      "cell_type": "code",
      "metadata": {
        "id": "iHKjtU8Jq6rY",
        "outputId": "cf47c3b1-10c6-46f7-feb2-da9958b17a7a",
        "colab": {
          "base_uri": "https://localhost:8080/"
        }
      },
      "source": [
        "print(train_data)"
      ],
      "execution_count": 268,
      "outputs": [
        {
          "output_type": "stream",
          "text": [
            "                                                   text airline_sentiment\n",
            "0      she also appreciated having her very own hash...          positive\n",
            "1      Just discovered that they billed us $  for th...          negative\n",
            "2                                           u guys suck          negative\n",
            "3                     I will but right now I'm to angry          negative\n",
            "4      not sure why the people in row   that paid fo...          negative\n",
            "...                                                 ...               ...\n",
            "8779   flight   atl to lga Cancelled Flightled any s...          negative\n",
            "8780       keeps getting better. No water on the plane.          negative\n",
            "8781    working for me. Tight cx  so they're delayin...          negative\n",
            "8782   are you guys alive? i've been on hold for   m...          negative\n",
            "8783   NEVER AGAIN! Worse experience in my life. htt...          negative\n",
            "\n",
            "[8784 rows x 2 columns]\n"
          ],
          "name": "stdout"
        }
      ]
    },
    {
      "cell_type": "markdown",
      "metadata": {
        "id": "ueoBVDGEUth3"
      },
      "source": [
        "remove punctuations"
      ]
    },
    {
      "cell_type": "code",
      "metadata": {
        "id": "f3pBvaYpUzxm"
      },
      "source": [
        "train_data.text = train_data.text.replace(to_replace =r\"[^\\w\\s]\", value = ' ', regex = True) \n",
        "validation_data.text = validation_data.text.replace(to_replace =r\"[^\\w\\s]\", value = ' ', regex = True) \n",
        "test_data.text = test_data.text.replace(to_replace =r\"[^\\w\\s]\", value = ' ', regex = True) "
      ],
      "execution_count": 269,
      "outputs": []
    },
    {
      "cell_type": "code",
      "metadata": {
        "id": "0ifJGFGMq7pf",
        "outputId": "85b98e1f-3ae0-48a6-9964-8ef565a713ff",
        "colab": {
          "base_uri": "https://localhost:8080/"
        }
      },
      "source": [
        "print(train_data)"
      ],
      "execution_count": 270,
      "outputs": [
        {
          "output_type": "stream",
          "text": [
            "                                                   text airline_sentiment\n",
            "0      she also appreciated having her very own hash...          positive\n",
            "1      Just discovered that they billed us    for th...          negative\n",
            "2                                           u guys suck          negative\n",
            "3                     I will but right now I m to angry          negative\n",
            "4      not sure why the people in row   that paid fo...          negative\n",
            "...                                                 ...               ...\n",
            "8779   flight   atl to lga Cancelled Flightled any s...          negative\n",
            "8780       keeps getting better  No water on the plane           negative\n",
            "8781    working for me  Tight cx  so they re delayin...          negative\n",
            "8782   are you guys alive  i ve been on hold for   m...          negative\n",
            "8783   NEVER AGAIN  Worse experience in my life  htt...          negative\n",
            "\n",
            "[8784 rows x 2 columns]\n"
          ],
          "name": "stdout"
        }
      ]
    },
    {
      "cell_type": "markdown",
      "metadata": {
        "id": "mH4SMbGdVL9y"
      },
      "source": [
        "remove mords long less than 3 letters"
      ]
    },
    {
      "cell_type": "code",
      "metadata": {
        "id": "ANHb6SmNTaSL"
      },
      "source": [
        "train_data.text = train_data.text.replace(to_replace =r'\\b\\w{1,2}\\b', value = '', regex = True) \n",
        "validation_data.text = validation_data.text.replace(to_replace =r'\\b\\w{1,2}\\b', value = '', regex = True) \n",
        "test_data.text = test_data.text.replace(to_replace =r'\\b\\w{1,2}\\b', value = '', regex = True) "
      ],
      "execution_count": 271,
      "outputs": []
    },
    {
      "cell_type": "code",
      "metadata": {
        "id": "FDVMVcREq8ji",
        "outputId": "fb109f02-c887-4afd-e963-ad45c86757aa",
        "colab": {
          "base_uri": "https://localhost:8080/"
        }
      },
      "source": [
        "print(train_data)"
      ],
      "execution_count": 272,
      "outputs": [
        {
          "output_type": "stream",
          "text": [
            "                                                   text airline_sentiment\n",
            "0      she also appreciated having her very own hash...          positive\n",
            "1      Just discovered that they billed     for the ...          negative\n",
            "2                                             guys suck          negative\n",
            "3                           will but right now    angry          negative\n",
            "4      not sure why the people  row   that paid for ...          negative\n",
            "...                                                 ...               ...\n",
            "8779   flight   atl  lga Cancelled Flightled any sug...          negative\n",
            "8780           keeps getting better   water  the plane           negative\n",
            "8781    working for   Tight    they  delaying our fl...          negative\n",
            "8782   are you guys alive    been  hold for   minute...          negative\n",
            "8783   NEVER AGAIN  Worse experience   life  http   ...          negative\n",
            "\n",
            "[8784 rows x 2 columns]\n"
          ],
          "name": "stdout"
        }
      ]
    },
    {
      "cell_type": "markdown",
      "metadata": {
        "id": "HSDeUeDZbXaS"
      },
      "source": [
        "lemmatize and tokenize"
      ]
    },
    {
      "cell_type": "code",
      "metadata": {
        "id": "j7laVpohbWiz"
      },
      "source": [
        "class StemLemmaTokenizer:\n",
        "    def __init__(self):\n",
        "        self.lemmatizer = WordNetLemmatizer()\n",
        "        self.stemmer = PorterStemmer()\n",
        "    def __call__(self, text):\n",
        "        stemmed_words = [self.stemmer.stem(word.lower()) for word in word_tokenize(text)]\n",
        "        return [self.lemmatizer.lemmatize(word) for word in stemmed_words]"
      ],
      "execution_count": 273,
      "outputs": []
    },
    {
      "cell_type": "markdown",
      "metadata": {
        "id": "Tm6KPHNJNA1M"
      },
      "source": [
        "vectorize text words - tf/idt   and   remove stop words"
      ]
    },
    {
      "cell_type": "code",
      "metadata": {
        "id": "f2EKS8YMDZFI"
      },
      "source": [
        "tokenizer = StemLemmaTokenizer()\n",
        "stop_words = set(stopwords.words(\"english\"))\n",
        "stop_words.add('much')\n",
        "stop_words.add('http')\n",
        "token_stop = tokenizer(' '.join(stop_words))\n",
        "vectorizer = TfidfVectorizer(max_features=5000, stop_words=token_stop, ngram_range=(1, 3), tokenizer=tokenizer)"
      ],
      "execution_count": 296,
      "outputs": []
    },
    {
      "cell_type": "code",
      "metadata": {
        "id": "UC63_NSUEAHZ",
        "outputId": "0a64cf00-91cd-496d-9338-875b56e016cd",
        "colab": {
          "base_uri": "https://localhost:8080/"
        }
      },
      "source": [
        "X_train = vectorizer.fit_transform(train_data.text)\n",
        "y_train = train_data.airline_sentiment\n",
        "X_validation = vectorizer.transform(validation_data.text)\n",
        "y_validation = validation_data.airline_sentiment\n",
        "X_test = vectorizer.transform(test_data.text)\n",
        "y_test = test_data.airline_sentiment"
      ],
      "execution_count": 297,
      "outputs": [
        {
          "output_type": "stream",
          "text": [
            "/usr/local/lib/python3.6/dist-packages/sklearn/feature_extraction/text.py:385: UserWarning: Your stop_words may be inconsistent with your preprocessing. Tokenizing the stop words generated tokens ['becau'] not in stop_words.\n",
            "  'stop_words.' % sorted(inconsistent))\n"
          ],
          "name": "stderr"
        }
      ]
    },
    {
      "cell_type": "code",
      "metadata": {
        "id": "96QCSRQkrFcu",
        "outputId": "1313a372-d08d-466c-e9f7-6070dedc57ff",
        "colab": {
          "base_uri": "https://localhost:8080/"
        }
      },
      "source": [
        "print(X_train)"
      ],
      "execution_count": 298,
      "outputs": [
        {
          "output_type": "stream",
          "text": [
            "  (0, 246)\t0.6925780630419479\n",
            "  (0, 150)\t0.7213429327255266\n",
            "  (1, 1626)\t0.40548844775802817\n",
            "  (1, 3665)\t0.35425212002943407\n",
            "  (1, 4913)\t0.21775685165564482\n",
            "  (1, 2743)\t0.24137264840644634\n",
            "  (1, 1029)\t0.19829512022175322\n",
            "  (1, 3851)\t0.3056815072706776\n",
            "  (1, 907)\t0.295826618437884\n",
            "  (1, 1586)\t0.10756269463099374\n",
            "  (1, 3662)\t0.2895990727740174\n",
            "  (1, 480)\t0.3731619241303199\n",
            "  (1, 1193)\t0.3865786436571424\n",
            "  (2, 2140)\t0.7278827009072247\n",
            "  (2, 4219)\t0.5476712372104584\n",
            "  (2, 2122)\t0.4126051255769484\n",
            "  (3, 187)\t0.8196170774722011\n",
            "  (3, 3713)\t0.5729117264604798\n",
            "  (4, 3219)\t0.3875853694591838\n",
            "  (4, 3291)\t0.3977947271361265\n",
            "  (4, 4076)\t0.3177645991712911\n",
            "  (4, 3217)\t0.32415904638219456\n",
            "  (4, 4693)\t0.23289667811708786\n",
            "  (4, 3833)\t0.20507969246720995\n",
            "  (4, 3452)\t0.34386840766824583\n",
            "  :\t:\n",
            "  (8780, 461)\t0.3419818724325801\n",
            "  (8780, 2525)\t0.4662278291992302\n",
            "  (8780, 3354)\t0.2579665837284699\n",
            "  (8780, 2523)\t0.3379745923353181\n",
            "  (8780, 1936)\t0.20551437887414595\n",
            "  (8781, 3850)\t0.518785092321205\n",
            "  (8781, 4425)\t0.518785092321205\n",
            "  (8781, 4619)\t0.4016348691653418\n",
            "  (8781, 1087)\t0.3716198953259464\n",
            "  (8781, 1071)\t0.23680938627778927\n",
            "  (8781, 4913)\t0.29222775298974135\n",
            "  (8781, 1586)\t0.1443481769622756\n",
            "  (8782, 135)\t0.4559786724080692\n",
            "  (8782, 2264)\t0.4461650520316498\n",
            "  (8782, 2937)\t0.418669407312839\n",
            "  (8782, 2263)\t0.36934924158385385\n",
            "  (8782, 915)\t0.3289036005485949\n",
            "  (8782, 2242)\t0.22078924537212136\n",
            "  (8782, 2935)\t0.2545395667742416\n",
            "  (8782, 2122)\t0.24413398247044324\n",
            "  (8783, 1430)\t0.5774915960627434\n",
            "  (8783, 2662)\t0.46307876409171955\n",
            "  (8783, 4930)\t0.44889417047209884\n",
            "  (8783, 3042)\t0.34329605670079605\n",
            "  (8783, 1428)\t0.36428471817253183\n"
          ],
          "name": "stdout"
        }
      ]
    },
    {
      "cell_type": "markdown",
      "metadata": {
        "id": "PDc7dymdY11Y"
      },
      "source": [
        "#Chi2"
      ]
    },
    {
      "cell_type": "code",
      "metadata": {
        "id": "zsRMJttCY0Dq"
      },
      "source": [
        "chi2score = chi2(X_train, y_train)[0]"
      ],
      "execution_count": 299,
      "outputs": []
    },
    {
      "cell_type": "markdown",
      "metadata": {
        "id": "YLCUALppsf43"
      },
      "source": [
        "plot the most important words identified by chi2"
      ]
    },
    {
      "cell_type": "code",
      "metadata": {
        "id": "jFcMHfSsZXBT",
        "outputId": "b267be1d-2644-4246-b327-500fcb25f169",
        "colab": {
          "base_uri": "https://localhost:8080/",
          "height": 357
        }
      },
      "source": [
        "plt.figure(figsize=(10,5))\n",
        "wscores = zip(vectorizer.get_feature_names(), chi2score)\n",
        "wchi2 = sorted(wscores, key=lambda x:x[1])\n",
        "topchi2 = list(zip(*wchi2[-20:]))\n",
        "x = range(len(topchi2[1]))\n",
        "labels = topchi2[0]\n",
        "plt.barh(x,topchi2[1], align='center', alpha=0.2)\n",
        "plt.plot(topchi2[1], x, '-o', markersize=5, alpha=0.8)\n",
        "plt.yticks(x, labels)\n",
        "plt.xlabel('$\\chi^2$')"
      ],
      "execution_count": 300,
      "outputs": [
        {
          "output_type": "execute_result",
          "data": {
            "text/plain": [
              "Text(0.5, 0, '$\\\\chi^2$')"
            ]
          },
          "metadata": {
            "tags": []
          },
          "execution_count": 300
        },
        {
          "output_type": "display_data",
          "data": {
            "image/png": "[encoded data removed]",
            "text/plain": [
              "<Figure size 720x360 with 1 Axes>"
            ]
          },
          "metadata": {
            "tags": [],
            "needs_background": "light"
          }
        }
      ]
    },
    {
      "cell_type": "markdown",
      "metadata": {
        "id": "F8JkfTDAr3_A"
      },
      "source": [
        "obtain the score for different numbers of top_words to choose best using validation data"
      ]
    },
    {
      "cell_type": "code",
      "metadata": {
        "id": "_BkfZSSeg4RK"
      },
      "source": [
        "from sklearn.feature_selection import SelectKBest, chi2\n",
        "ch2_result = []\n",
        "for n in np.arange(100,1000,10):\n",
        "    ch2 = SelectKBest(chi2, k=n)\n",
        "    x_train_chi2_selected = ch2.fit_transform(X_train, y_train)\n",
        "    x_validation_chi2_selected = ch2.transform(X_validation)\n",
        "    knn = KNeighborsClassifier(n_neighbors = 13).fit(x_train_chi2_selected, y_train)\n",
        "    score = knn.score(x_validation_chi2_selected, y_validation)\n",
        "    ch2_result.append(score)"
      ],
      "execution_count": 301,
      "outputs": []
    },
    {
      "cell_type": "code",
      "metadata": {
        "id": "5HweGT8FA4IA",
        "outputId": "d3034fbd-bb61-4cc0-bb73-9155f4e83188",
        "colab": {
          "base_uri": "https://localhost:8080/"
        }
      },
      "source": [
        "print(max(ch2_result)*100, ch2_result.index(max(ch2_result))*10 + 100)"
      ],
      "execution_count": 302,
      "outputs": [
        {
          "output_type": "stream",
          "text": [
            "71.85792349726776 400\n"
          ],
          "name": "stdout"
        }
      ]
    },
    {
      "cell_type": "markdown",
      "metadata": {
        "id": "zflNasYXk4Rk"
      },
      "source": [
        "=> best number for top important words = 400"
      ]
    },
    {
      "cell_type": "markdown",
      "metadata": {
        "id": "MOz3Iu4CNH4J"
      },
      "source": [
        "#KNN classifier"
      ]
    },
    {
      "cell_type": "markdown",
      "metadata": {
        "id": "nUn4XeABrsyD"
      },
      "source": [
        "train KNN classifier"
      ]
    },
    {
      "cell_type": "code",
      "metadata": {
        "id": "h2cPKNZFXUMR"
      },
      "source": [
        "ch2 = SelectKBest(chi2, k=400)\n",
        "x_train_chi2_selected = ch2.fit_transform(X_train, y_train)\n",
        "x_test_chi2_selected = ch2.transform(X_test)"
      ],
      "execution_count": 303,
      "outputs": []
    },
    {
      "cell_type": "code",
      "metadata": {
        "id": "m0m2DYT6Frjd"
      },
      "source": [
        "knn = KNeighborsClassifier(n_neighbors = 13).fit(x_train_chi2_selected, y_train) "
      ],
      "execution_count": 304,
      "outputs": []
    },
    {
      "cell_type": "markdown",
      "metadata": {
        "id": "6z2wdTO-tHKK"
      },
      "source": [
        "test KNN classifier using test data"
      ]
    },
    {
      "cell_type": "code",
      "metadata": {
        "id": "TZmoXWYTXbSa",
        "outputId": "7199eed1-87d0-40ee-cd42-f97276c7873b",
        "colab": {
          "base_uri": "https://localhost:8080/"
        }
      },
      "source": [
        "score = knn.score(x_test_chi2_selected, y_test) \n",
        "print(\"KNN test score is: \", score*100)"
      ],
      "execution_count": 305,
      "outputs": [
        {
          "output_type": "stream",
          "text": [
            "KNN test score is:  72.6775956284153\n"
          ],
          "name": "stdout"
        }
      ]
    },
    {
      "cell_type": "code",
      "metadata": {
        "id": "JephR87NXgbx"
      },
      "source": [
        "knn_predictions = knn.predict(x_test_chi2_selected)"
      ],
      "execution_count": 306,
      "outputs": []
    },
    {
      "cell_type": "code",
      "metadata": {
        "id": "bAtV6l9FXmgq",
        "outputId": "eb8f5d48-db48-4ee3-e5d4-c3db6ce958ad",
        "colab": {
          "base_uri": "https://localhost:8080/"
        }
      },
      "source": [
        "print(classification_report(y_test, knn_predictions))"
      ],
      "execution_count": 307,
      "outputs": [
        {
          "output_type": "stream",
          "text": [
            "              precision    recall  f1-score   support\n",
            "\n",
            "    negative       0.77      0.90      0.83      1826\n",
            "     neutral       0.54      0.47      0.50       636\n",
            "    positive       0.79      0.40      0.53       466\n",
            "\n",
            "    accuracy                           0.73      2928\n",
            "   macro avg       0.70      0.59      0.62      2928\n",
            "weighted avg       0.72      0.73      0.71      2928\n",
            "\n"
          ],
          "name": "stdout"
        }
      ]
    },
    {
      "cell_type": "markdown",
      "metadata": {
        "id": "_nX522mstpB1"
      },
      "source": [
        "#Plot confusion matrix"
      ]
    },
    {
      "cell_type": "code",
      "metadata": {
        "id": "JoJZb227tsVm",
        "outputId": "aa690ae8-ec12-4348-e5e3-929d3dd5f305",
        "colab": {
          "base_uri": "https://localhost:8080/",
          "height": 320
        }
      },
      "source": [
        "import seaborn as sn\n",
        "\n",
        "matrix = confusion_matrix(y_test, knn_predictions)\n",
        "plt.figure(figsize = (5,5))\n",
        "sn.heatmap(matrix, annot=True)\n",
        "\n",
        "plt.show()"
      ],
      "execution_count": 308,
      "outputs": [
        {
          "output_type": "display_data",
          "data": {
            "image/png": "[encoded data removed]",
            "text/plain": [
              "<Figure size 360x360 with 2 Axes>"
            ]
          },
          "metadata": {
            "tags": [],
            "needs_background": "light"
          }
        }
      ]
    },
    {
      "cell_type": "markdown",
      "metadata": {
        "id": "U2LIdS9kuboW"
      },
      "source": [
        "# Test KNN classifier by the input tweet"
      ]
    },
    {
      "cell_type": "code",
      "metadata": {
        "id": "rnY4jRBkHd7R"
      },
      "source": [
        "def normalize(text):\n",
        "  text = text.replace(to_replace =r'@([A-Za-z0-9_]+)', value = '', regex = True)\n",
        "  text = text.replace(to_replace =r\"\\d+\", value = ' ', regex = True) \n",
        "  text = text.replace(to_replace =r\"[^\\w\\s]\", value = ' ', regex = True) \n",
        "  text.replace(to_replace =r'\\b\\w{1,2}\\b', value = '', regex = True)\n",
        "  return data"
      ],
      "execution_count": 309,
      "outputs": []
    },
    {
      "cell_type": "code",
      "metadata": {
        "id": "2bxwEpsDY5AP",
        "outputId": "ab919041-5c6b-4f5e-edcd-4bbd9f19f01e",
        "colab": {
          "base_uri": "https://localhost:8080/"
        }
      },
      "source": [
        "while True:\n",
        "    text = input(\"enter tweets text (or exit to finish): \")\n",
        "    if text == \"exit\":\n",
        "        break\n",
        "    text = normalize(data)\n",
        "    X_test = vectorizer.transform(pd.core.series.Series(text))\n",
        "    x_test_chi2_selected = ch2.transform(X_test)\n",
        "    knn_prediction = knn.predict(x_test_chi2_selected)\n",
        "    print(knn_prediction)"
      ],
      "execution_count": 310,
      "outputs": [
        {
          "output_type": "stream",
          "text": [
            "enter tweets text (or exit to finish): exit\n"
          ],
          "name": "stdout"
        }
      ]
    },
    {
      "cell_type": "code",
      "metadata": {
        "id": "vFrcj6TYOtlj"
      },
      "source": [
        ""
      ],
      "execution_count": null,
      "outputs": []
    }
  ]
}