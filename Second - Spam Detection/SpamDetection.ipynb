{
  "nbformat": 4,
  "nbformat_minor": 0,
  "metadata": {
    "colab": {
      "name": "SpamDetection.ipynb",
      "provenance": [],
      "collapsed_sections": [
        "KscoGuysyrbC",
        "3OaltiyHK7FI",
        "auaf3aDAH0b0",
        "McENi-nbJz3k",
        "zOngM_WhzI_U",
        "G-pBw1cOQpxZ",
        "mH2KWl11CntI",
        "dLtaENvzFMRw",
        "khATyugYBTck"
      ]
    },
    "kernelspec": {
      "name": "python3",
      "display_name": "Python 3"
    }
  },
  "cells": [
    {
      "cell_type": "markdown",
      "metadata": {
        "id": "KscoGuysyrbC"
      },
      "source": [
        "#Import and install modules"
      ]
    },
    {
      "cell_type": "code",
      "metadata": {
        "colab": {
          "base_uri": "https://localhost:8080/"
        },
        "id": "x42gllPRyK5D",
        "outputId": "8b66f7b7-7b51-46c0-dc32-d73b3f899642"
      },
      "source": [
        "!pip install hazm"
      ],
      "execution_count": 1,
      "outputs": [
        {
          "output_type": "stream",
          "text": [
            "Collecting hazm\n",
            "  Using cached https://files.pythonhosted.org/packages/22/13/5a7074bc11d20dbbb46239349ac3f85f7edc148b4cf68e9b8c2f8263830c/hazm-0.7.0-py3-none-any.whl\n",
            "Processing /root/.cache/pip/wheels/d1/ab/40/3bceea46922767e42986aef7606a600538ca80de6062dc266c/nltk-3.3-cp36-none-any.whl\n",
            "Collecting libwapiti>=0.2.1; platform_system != \"Windows\"\n",
            "  Using cached https://files.pythonhosted.org/packages/bc/0f/1c9b49bb49821b5856a64ea6fac8d96a619b9f291d1f06999ea98a32c89c/libwapiti-0.2.1.tar.gz\n",
            "Requirement already satisfied: six in /usr/local/lib/python3.6/dist-packages (from nltk==3.3->hazm) (1.15.0)\n",
            "Building wheels for collected packages: libwapiti\n",
            "  Building wheel for libwapiti (setup.py) ... \u001b[?25l\u001b[?25hdone\n",
            "  Created wheel for libwapiti: filename=libwapiti-0.2.1-cp36-cp36m-linux_x86_64.whl size=154767 sha256=8363b16fb6feda25b46f2347966aebff98a4b1d5292d6ac40ef01d48ad07f6b7\n",
            "  Stored in directory: /root/.cache/pip/wheels/66/15/54/4510dce8bb958b1cdd2c47425cbd1e1eecc0480ac9bb1fb9ab\n",
            "Successfully built libwapiti\n",
            "Installing collected packages: nltk, libwapiti, hazm\n",
            "  Found existing installation: nltk 3.2.5\n",
            "    Uninstalling nltk-3.2.5:\n",
            "      Successfully uninstalled nltk-3.2.5\n",
            "Successfully installed hazm-0.7.0 libwapiti-0.2.1 nltk-3.3\n"
          ],
          "name": "stdout"
        }
      ]
    },
    {
      "cell_type": "code",
      "metadata": {
        "id": "31SzqN9Bx7U3"
      },
      "source": [
        "import re\n",
        "import hazm\n",
        "import numpy as np\n",
        "import pandas as pd\n",
        "import matplotlib.pyplot as plt\n",
        "from scipy import sparse, stats\n",
        "from sklearn.metrics.pairwise import cosine_similarity\n",
        "from sklearn.feature_selection import SelectKBest, chi2\n",
        "from sklearn.metrics import classification_report, confusion_matrix"
      ],
      "execution_count": 2,
      "outputs": []
    },
    {
      "cell_type": "markdown",
      "metadata": {
        "id": "3OaltiyHK7FI"
      },
      "source": [
        "#Load and tag data"
      ]
    },
    {
      "cell_type": "code",
      "metadata": {
        "id": "6VWzOy8hnSnl",
        "colab": {
          "base_uri": "https://localhost:8080/"
        },
        "outputId": "9cc2c0ce-9ac9-49ae-b4cb-93e0f2dff936"
      },
      "source": [
        "from google.colab import drive\n",
        "drive.mount('/content/drive')\n",
        "import os\n",
        "os.chdir(\"drive/My Drive/emails\")\n",
        "!ls"
      ],
      "execution_count": 3,
      "outputs": [
        {
          "output_type": "stream",
          "text": [
            "Mounted at /content/drive\n",
            "hamtesting  hamtraining  spamtesting  spamtraining\n"
          ],
          "name": "stdout"
        }
      ]
    },
    {
      "cell_type": "code",
      "metadata": {
        "id": "FuAt6bcZq7uy"
      },
      "source": [
        "def read_folder(name, size):\n",
        "  items = []\n",
        "  for i in range(1, size + 1):\n",
        "    address = name + '/' + name + ' (' + str(i) + ').txt'\n",
        "    with open(address, 'r', encoding='utf-8') as txt_file:\n",
        "      items.append(txt_file.read())\n",
        "  return items\n",
        "\n",
        "ham_test = read_folder('hamtesting', 200)\n",
        "ham_train = read_folder('hamtraining', 300)\n",
        "spam_test = read_folder('spamtesting', 200)\n",
        "spam_train = read_folder('spamtraining', 300)"
      ],
      "execution_count": 4,
      "outputs": []
    },
    {
      "cell_type": "code",
      "metadata": {
        "id": "xZQxLiC-t4g-",
        "colab": {
          "base_uri": "https://localhost:8080/"
        },
        "outputId": "64fc31f0-f82f-4339-f9b7-9d62ac7c6281"
      },
      "source": [
        "ham_test[:3]"
      ],
      "execution_count": 5,
      "outputs": [
        {
          "output_type": "execute_result",
          "data": {
            "text/plain": [
              "['\\ufeffممنون آقا سامان.\\nمن پارسال اصلا آزاد شرکت نکرده بودم و سراسری هم قبول نشدم. فقط میخواستم بدونم شرایط چطوریه واسه سال بعد. مرسی از راهنمایی هاتون.',\n",
              " '\\ufeffدوست عزیز آقای سعیدی، کتاب حاضر را چندی پیش به سفارش یکی از مجلات قرار بود که نقدی بکنم، وقتی کتاب را مطالعه کردم، چون مشغله زیادی داشتم به یکی از دوستان دادم که نقد و معرفی از آن به رشته تحریر درآورد، و به نام خودش آن را نیز چاپ کند. دکتر دادور را نیز از طریق یکی از دانشجویانش شناختم.\\nبا آن\\u200cکه دکتر دادور در فرانسه دانی استاد خوبیست، اما کتاب فرهنگ نشانه-معناشناختی کتاب ضعیفی است. هم از نظر انتخاب معادل برای اصطلاحات نشانه\\u200cشناسی و معناشناسی یا زبان\\u200cشناسی، و هم از نظر ارائه اطلاعات فرهنگ\\u200cنگاری. متاسفانه آن دوست ما خلف وعده کرد و نقد خود را ننوشت، و کاهلی کرد. اگر زمانی فرصت کنم شاید نقدی بر آن بنویسم. اگر خداوند عمری دهد. یا حق یا هو.',\n",
              " '\\ufeffسلام خیلی عالی بود ممکنه اگه مقاله دیگه ای از دکتر باطنی دارید برام ایمل کنید ممنون می شم دانشجوی ارشد ادبیاتم برای تحقیق دستور بهشون احتیاج دارم . ممنون']"
            ]
          },
          "metadata": {
            "tags": []
          },
          "execution_count": 5
        }
      ]
    },
    {
      "cell_type": "code",
      "metadata": {
        "id": "F8ZQDs_cs6J7"
      },
      "source": [
        "def tagging(items, tag):\n",
        "  tagged_items = []\n",
        "  for item in items:\n",
        "    tagged_items.append([item, tag])\n",
        "  return tagged_items\n",
        "\n",
        "ham_test = tagging(ham_test, 'ham')\n",
        "ham_train = tagging(ham_train, 'ham')\n",
        "spam_test = tagging(spam_test, 'spam')\n",
        "spam_train = tagging(spam_train, 'spam')"
      ],
      "execution_count": 6,
      "outputs": []
    },
    {
      "cell_type": "code",
      "metadata": {
        "id": "1Hxg8gBwqKpn",
        "colab": {
          "base_uri": "https://localhost:8080/"
        },
        "outputId": "459eb7f6-b3f9-4b6a-831f-55a3efc875d9"
      },
      "source": [
        "ham_test[:3]"
      ],
      "execution_count": 7,
      "outputs": [
        {
          "output_type": "execute_result",
          "data": {
            "text/plain": [
              "[['\\ufeffممنون آقا سامان.\\nمن پارسال اصلا آزاد شرکت نکرده بودم و سراسری هم قبول نشدم. فقط میخواستم بدونم شرایط چطوریه واسه سال بعد. مرسی از راهنمایی هاتون.',\n",
              "  'ham'],\n",
              " ['\\ufeffدوست عزیز آقای سعیدی، کتاب حاضر را چندی پیش به سفارش یکی از مجلات قرار بود که نقدی بکنم، وقتی کتاب را مطالعه کردم، چون مشغله زیادی داشتم به یکی از دوستان دادم که نقد و معرفی از آن به رشته تحریر درآورد، و به نام خودش آن را نیز چاپ کند. دکتر دادور را نیز از طریق یکی از دانشجویانش شناختم.\\nبا آن\\u200cکه دکتر دادور در فرانسه دانی استاد خوبیست، اما کتاب فرهنگ نشانه-معناشناختی کتاب ضعیفی است. هم از نظر انتخاب معادل برای اصطلاحات نشانه\\u200cشناسی و معناشناسی یا زبان\\u200cشناسی، و هم از نظر ارائه اطلاعات فرهنگ\\u200cنگاری. متاسفانه آن دوست ما خلف وعده کرد و نقد خود را ننوشت، و کاهلی کرد. اگر زمانی فرصت کنم شاید نقدی بر آن بنویسم. اگر خداوند عمری دهد. یا حق یا هو.',\n",
              "  'ham'],\n",
              " ['\\ufeffسلام خیلی عالی بود ممکنه اگه مقاله دیگه ای از دکتر باطنی دارید برام ایمل کنید ممنون می شم دانشجوی ارشد ادبیاتم برای تحقیق دستور بهشون احتیاج دارم . ممنون',\n",
              "  'ham']]"
            ]
          },
          "metadata": {
            "tags": []
          },
          "execution_count": 7
        }
      ]
    },
    {
      "cell_type": "code",
      "metadata": {
        "id": "EPNZoclLvWlY"
      },
      "source": [
        "train_set = pd.DataFrame(ham_train + spam_train, columns=['text', 'tag'])\n",
        "test_set = pd.DataFrame(ham_test + spam_test, columns=['text', 'tag'])\n",
        "\n",
        "# shuffle data\n",
        "train_set = train_set.sample(frac = 1)\n",
        "train_set.reset_index(drop=True, inplace=True)\n",
        "test_set = test_set.sample(frac = 1)\n",
        "test_set.reset_index(drop=True, inplace=True)"
      ],
      "execution_count": 8,
      "outputs": []
    },
    {
      "cell_type": "code",
      "metadata": {
        "id": "LKi7I4_VwDui",
        "colab": {
          "base_uri": "https://localhost:8080/",
          "height": 0
        },
        "outputId": "7cf4115f-8577-4215-b424-4bace534728c"
      },
      "source": [
        "train_set.head()"
      ],
      "execution_count": 9,
      "outputs": [
        {
          "output_type": "execute_result",
          "data": {
            "text/html": [
              "<div>\n",
              "<style scoped>\n",
              "    .dataframe tbody tr th:only-of-type {\n",
              "        vertical-align: middle;\n",
              "    }\n",
              "\n",
              "    .dataframe tbody tr th {\n",
              "        vertical-align: top;\n",
              "    }\n",
              "\n",
              "    .dataframe thead th {\n",
              "        text-align: right;\n",
              "    }\n",
              "</style>\n",
              "<table border=\"1\" class=\"dataframe\">\n",
              "  <thead>\n",
              "    <tr style=\"text-align: right;\">\n",
              "      <th></th>\n",
              "      <th>text</th>\n",
              "      <th>tag</th>\n",
              "    </tr>\n",
              "  </thead>\n",
              "  <tbody>\n",
              "    <tr>\n",
              "      <th>0</th>\n",
              "      <td>﻿\\n*\\n\\n \\n\\n&lt;http://www.payegan.ir/one.htm&gt;\\n...</td>\n",
              "      <td>spam</td>\n",
              "    </tr>\n",
              "    <tr>\n",
              "      <th>1</th>\n",
              "      <td>﻿ عباس جانم !\\nباز هم ممنونم\\nاگر طبق قرار امک...</td>\n",
              "      <td>ham</td>\n",
              "    </tr>\n",
              "    <tr>\n",
              "      <th>2</th>\n",
              "      <td>﻿سلام. البته فکر کنم قبلا گفته بودم و الان دوب...</td>\n",
              "      <td>ham</td>\n",
              "    </tr>\n",
              "    <tr>\n",
              "      <th>3</th>\n",
              "      <td>﻿\\t\\nبا سلام این جانب رضا ناصری دارای مدرک کار...</td>\n",
              "      <td>ham</td>\n",
              "    </tr>\n",
              "    <tr>\n",
              "      <th>4</th>\n",
              "      <td>﻿معصومه خانم:\\nخیلی خیلی ممنون. نیازی نیست که ...</td>\n",
              "      <td>ham</td>\n",
              "    </tr>\n",
              "  </tbody>\n",
              "</table>\n",
              "</div>"
            ],
            "text/plain": [
              "                                                text   tag\n",
              "0  ﻿\\n*\\n\\n \\n\\n<http://www.payegan.ir/one.htm>\\n...  spam\n",
              "1  ﻿ عباس جانم !\\nباز هم ممنونم\\nاگر طبق قرار امک...   ham\n",
              "2  ﻿سلام. البته فکر کنم قبلا گفته بودم و الان دوب...   ham\n",
              "3  ﻿\\t\\nبا سلام این جانب رضا ناصری دارای مدرک کار...   ham\n",
              "4  ﻿معصومه خانم:\\nخیلی خیلی ممنون. نیازی نیست که ...   ham"
            ]
          },
          "metadata": {
            "tags": []
          },
          "execution_count": 9
        }
      ]
    },
    {
      "cell_type": "markdown",
      "metadata": {
        "id": "auaf3aDAH0b0"
      },
      "source": [
        "#Preprocess"
      ]
    },
    {
      "cell_type": "markdown",
      "metadata": {
        "id": "McENi-nbJz3k"
      },
      "source": [
        "##Normalizing the text"
      ]
    },
    {
      "cell_type": "code",
      "metadata": {
        "id": "ibumbhqUJ0w0"
      },
      "source": [
        "def normalize(text):\n",
        "  text = text.replace(to_replace =r\"[ئيی]\", value = 'ی', regex = True)\n",
        "  text = text.replace(to_replace =r\"[ك]\", value = 'ک', regex = True)\n",
        "  text = text.replace(to_replace =r\"[ؤ]\", value = 'و', regex = True)\n",
        "  text = text.replace(to_replace =r\"[ة]\", value = 'ه', regex = True)\n",
        "  text = text.replace(to_replace =r\"[أإ]\", value = 'ا', regex = True)\n",
        "  text = text.replace(to_replace =r\"[^ضصثقفغعهخحجچشسیبلاآتنمکگظطزژرذدپو]\", value = ' ', regex = True)\n",
        "  text = text.replace(to_replace =r\"[^\\S\\n\\t]+\", value = ' ', regex = True)\n",
        "  return text  "
      ],
      "execution_count": 10,
      "outputs": []
    },
    {
      "cell_type": "code",
      "metadata": {
        "id": "DF9G1oM6a3cF",
        "colab": {
          "base_uri": "https://localhost:8080/",
          "height": 0
        },
        "outputId": "6aaf5c72-bdf8-4923-8394-be1c50a44749"
      },
      "source": [
        "train_set.text = normalize(train_set.text)\n",
        "test_set.text = normalize(test_set.text)\n",
        "\n",
        "train_set.head()"
      ],
      "execution_count": 11,
      "outputs": [
        {
          "output_type": "execute_result",
          "data": {
            "text/html": [
              "<div>\n",
              "<style scoped>\n",
              "    .dataframe tbody tr th:only-of-type {\n",
              "        vertical-align: middle;\n",
              "    }\n",
              "\n",
              "    .dataframe tbody tr th {\n",
              "        vertical-align: top;\n",
              "    }\n",
              "\n",
              "    .dataframe thead th {\n",
              "        text-align: right;\n",
              "    }\n",
              "</style>\n",
              "<table border=\"1\" class=\"dataframe\">\n",
              "  <thead>\n",
              "    <tr style=\"text-align: right;\">\n",
              "      <th></th>\n",
              "      <th>text</th>\n",
              "      <th>tag</th>\n",
              "    </tr>\n",
              "  </thead>\n",
              "  <tbody>\n",
              "    <tr>\n",
              "      <th>0</th>\n",
              "      <td>ثبت در یک هفته هزینه چند صد هزار تومان فروش ح...</td>\n",
              "      <td>spam</td>\n",
              "    </tr>\n",
              "    <tr>\n",
              "      <th>1</th>\n",
              "      <td>عباس جانم باز هم ممنونم اگر طبق قرار امکان خر...</td>\n",
              "      <td>ham</td>\n",
              "    </tr>\n",
              "    <tr>\n",
              "      <th>2</th>\n",
              "      <td>سلام البته فکر کنم قبلا گفته بودم و الان دوبا...</td>\n",
              "      <td>ham</td>\n",
              "    </tr>\n",
              "    <tr>\n",
              "      <th>3</th>\n",
              "      <td>با سلام این جانب رضا ناصری دارای مدرک کارشناس...</td>\n",
              "      <td>ham</td>\n",
              "    </tr>\n",
              "    <tr>\n",
              "      <th>4</th>\n",
              "      <td>معصومه خانم خیلی خیلی ممنون نیازی نیست که این...</td>\n",
              "      <td>ham</td>\n",
              "    </tr>\n",
              "  </tbody>\n",
              "</table>\n",
              "</div>"
            ],
            "text/plain": [
              "                                                text   tag\n",
              "0   ثبت در یک هفته هزینه چند صد هزار تومان فروش ح...  spam\n",
              "1   عباس جانم باز هم ممنونم اگر طبق قرار امکان خر...   ham\n",
              "2   سلام البته فکر کنم قبلا گفته بودم و الان دوبا...   ham\n",
              "3   با سلام این جانب رضا ناصری دارای مدرک کارشناس...   ham\n",
              "4   معصومه خانم خیلی خیلی ممنون نیازی نیست که این...   ham"
            ]
          },
          "metadata": {
            "tags": []
          },
          "execution_count": 11
        }
      ]
    },
    {
      "cell_type": "markdown",
      "metadata": {
        "id": "zOngM_WhzI_U"
      },
      "source": [
        "##Word Tokenizing"
      ]
    },
    {
      "cell_type": "code",
      "metadata": {
        "id": "G7F7vPo3xp04",
        "colab": {
          "base_uri": "https://localhost:8080/",
          "height": 0
        },
        "outputId": "d50d1896-c7f5-473e-aa1c-2068ded349d1"
      },
      "source": [
        "def tokenizer(text):\n",
        "  text = text.str.split(' ')\n",
        "  return text\n",
        "  \n",
        "train_set.text = tokenizer(train_set.text)\n",
        "test_set.text = tokenizer(test_set.text)\n",
        "\n",
        "train_set.head()"
      ],
      "execution_count": 12,
      "outputs": [
        {
          "output_type": "execute_result",
          "data": {
            "text/html": [
              "<div>\n",
              "<style scoped>\n",
              "    .dataframe tbody tr th:only-of-type {\n",
              "        vertical-align: middle;\n",
              "    }\n",
              "\n",
              "    .dataframe tbody tr th {\n",
              "        vertical-align: top;\n",
              "    }\n",
              "\n",
              "    .dataframe thead th {\n",
              "        text-align: right;\n",
              "    }\n",
              "</style>\n",
              "<table border=\"1\" class=\"dataframe\">\n",
              "  <thead>\n",
              "    <tr style=\"text-align: right;\">\n",
              "      <th></th>\n",
              "      <th>text</th>\n",
              "      <th>tag</th>\n",
              "    </tr>\n",
              "  </thead>\n",
              "  <tbody>\n",
              "    <tr>\n",
              "      <th>0</th>\n",
              "      <td>[, ثبت, در, یک, هفته, هزینه, چند, صد, هزار, تو...</td>\n",
              "      <td>spam</td>\n",
              "    </tr>\n",
              "    <tr>\n",
              "      <th>1</th>\n",
              "      <td>[, عباس, جانم, باز, هم, ممنونم, اگر, طبق, قرار...</td>\n",
              "      <td>ham</td>\n",
              "    </tr>\n",
              "    <tr>\n",
              "      <th>2</th>\n",
              "      <td>[, سلام, البته, فکر, کنم, قبلا, گفته, بودم, و,...</td>\n",
              "      <td>ham</td>\n",
              "    </tr>\n",
              "    <tr>\n",
              "      <th>3</th>\n",
              "      <td>[, با, سلام, این, جانب, رضا, ناصری, دارای, مدر...</td>\n",
              "      <td>ham</td>\n",
              "    </tr>\n",
              "    <tr>\n",
              "      <th>4</th>\n",
              "      <td>[, معصومه, خانم, خیلی, خیلی, ممنون, نیازی, نیس...</td>\n",
              "      <td>ham</td>\n",
              "    </tr>\n",
              "  </tbody>\n",
              "</table>\n",
              "</div>"
            ],
            "text/plain": [
              "                                                text   tag\n",
              "0  [, ثبت, در, یک, هفته, هزینه, چند, صد, هزار, تو...  spam\n",
              "1  [, عباس, جانم, باز, هم, ممنونم, اگر, طبق, قرار...   ham\n",
              "2  [, سلام, البته, فکر, کنم, قبلا, گفته, بودم, و,...   ham\n",
              "3  [, با, سلام, این, جانب, رضا, ناصری, دارای, مدر...   ham\n",
              "4  [, معصومه, خانم, خیلی, خیلی, ممنون, نیازی, نیس...   ham"
            ]
          },
          "metadata": {
            "tags": []
          },
          "execution_count": 12
        }
      ]
    },
    {
      "cell_type": "markdown",
      "metadata": {
        "id": "Mdf8Z6ZBghO4"
      },
      "source": [
        "##Stem and Lemma and stopwords"
      ]
    },
    {
      "cell_type": "code",
      "metadata": {
        "id": "ERyIBTiZzHzP",
        "colab": {
          "base_uri": "https://localhost:8080/",
          "height": 0
        },
        "outputId": "eb8e5547-1853-492e-bd6a-b623dc874a1c"
      },
      "source": [
        "def SS(stemmer, lemmatizer, stopwords, alphabet, tokens):\n",
        "  final_tokens = []\n",
        "  for token in tokens:\n",
        "    stemmed_token = stemmer.stem(lemmatizer.lemmatize(token))\n",
        "    if '#' in stemmed_token:\n",
        "      stemmed_token = stemmed_token.split('#')[0]\n",
        "    if token not in stopwords and stemmed_token not in stopwords and not token == '' and stemmed_token not in alphabet:\n",
        "      final_tokens.append(stemmed_token)\n",
        "  return final_tokens\n",
        "\n",
        "\n",
        "stemmer = hazm.Stemmer()\n",
        "lemmatizer = hazm.Lemmatizer()\n",
        "stopwords = hazm.stopwords_list()\n",
        "alphabet = set(list('آابپتثجچحخدذرزژسشصضطظعغفقکگلم‌ن‌وهی'))\n",
        "\n",
        "train_set.text = train_set.apply(lambda row: SS(stemmer, lemmatizer, stopwords, alphabet, row.text), axis=1)\n",
        "test_set.text = test_set.apply(lambda row: SS(stemmer, lemmatizer, stopwords, alphabet, row.text), axis=1)\n",
        "\n",
        "train_set.head()"
      ],
      "execution_count": 13,
      "outputs": [
        {
          "output_type": "execute_result",
          "data": {
            "text/html": [
              "<div>\n",
              "<style scoped>\n",
              "    .dataframe tbody tr th:only-of-type {\n",
              "        vertical-align: middle;\n",
              "    }\n",
              "\n",
              "    .dataframe tbody tr th {\n",
              "        vertical-align: top;\n",
              "    }\n",
              "\n",
              "    .dataframe thead th {\n",
              "        text-align: right;\n",
              "    }\n",
              "</style>\n",
              "<table border=\"1\" class=\"dataframe\">\n",
              "  <thead>\n",
              "    <tr style=\"text-align: right;\">\n",
              "      <th></th>\n",
              "      <th>text</th>\n",
              "      <th>tag</th>\n",
              "    </tr>\n",
              "  </thead>\n",
              "  <tbody>\n",
              "    <tr>\n",
              "      <th>0</th>\n",
              "      <td>[ثب, هفته, هزینه, صد, هزار, فرو, میلون, سود, ک...</td>\n",
              "      <td>spam</td>\n",
              "    </tr>\n",
              "    <tr>\n",
              "      <th>1</th>\n",
              "      <td>[عباس, ممنون, قرار, خریدار, کتاب, طریق, سا, گر...</td>\n",
              "      <td>ham</td>\n",
              "    </tr>\n",
              "    <tr>\n",
              "      <th>2</th>\n",
              "      <td>[سلا, قبلا, ال, بگ, هزینه, دکتر, آزاد, سال, قب...</td>\n",
              "      <td>ham</td>\n",
              "    </tr>\n",
              "    <tr>\n",
              "      <th>3</th>\n",
              "      <td>[سلا, جانب, رضا, ناصر, مدرک, کارشناس, مکانیک, ...</td>\n",
              "      <td>ham</td>\n",
              "    </tr>\n",
              "    <tr>\n",
              "      <th>4</th>\n",
              "      <td>[معصومه, خان, ممنون, قدر, تعریف, وظیف, انجا, م...</td>\n",
              "      <td>ham</td>\n",
              "    </tr>\n",
              "  </tbody>\n",
              "</table>\n",
              "</div>"
            ],
            "text/plain": [
              "                                                text   tag\n",
              "0  [ثب, هفته, هزینه, صد, هزار, فرو, میلون, سود, ک...  spam\n",
              "1  [عباس, ممنون, قرار, خریدار, کتاب, طریق, سا, گر...   ham\n",
              "2  [سلا, قبلا, ال, بگ, هزینه, دکتر, آزاد, سال, قب...   ham\n",
              "3  [سلا, جانب, رضا, ناصر, مدرک, کارشناس, مکانیک, ...   ham\n",
              "4  [معصومه, خان, ممنون, قدر, تعریف, وظیف, انجا, م...   ham"
            ]
          },
          "metadata": {
            "tags": []
          },
          "execution_count": 13
        }
      ]
    },
    {
      "cell_type": "markdown",
      "metadata": {
        "id": "DX1vPV56Ak6b"
      },
      "source": [
        "##Information about words in data"
      ]
    },
    {
      "cell_type": "code",
      "metadata": {
        "id": "8ke59lfJ_phr",
        "colab": {
          "base_uri": "https://localhost:8080/",
          "height": 0
        },
        "outputId": "cdf13e4b-3024-4b22-f1d8-33340c2b9a47"
      },
      "source": [
        "def num_words(words):\n",
        "  return len(words)\n",
        "\n",
        "train_set['words_num'] = train_set.apply(lambda row: num_words(row.text), axis=1)\n",
        "test_set['words_num'] = test_set.apply(lambda row: num_words(row.text), axis=1)\n",
        "\n",
        "def num_distinct_words(words):\n",
        "  return len(set(words))\n",
        "\n",
        "train_set['distinct_words_num'] = train_set.apply(lambda row: num_distinct_words(row.text), axis=1)\n",
        "test_set['distinct_words_num'] = test_set.apply(lambda row: num_distinct_words(row.text), axis=1)\n",
        "\n",
        "train_set.head()"
      ],
      "execution_count": 14,
      "outputs": [
        {
          "output_type": "execute_result",
          "data": {
            "text/html": [
              "<div>\n",
              "<style scoped>\n",
              "    .dataframe tbody tr th:only-of-type {\n",
              "        vertical-align: middle;\n",
              "    }\n",
              "\n",
              "    .dataframe tbody tr th {\n",
              "        vertical-align: top;\n",
              "    }\n",
              "\n",
              "    .dataframe thead th {\n",
              "        text-align: right;\n",
              "    }\n",
              "</style>\n",
              "<table border=\"1\" class=\"dataframe\">\n",
              "  <thead>\n",
              "    <tr style=\"text-align: right;\">\n",
              "      <th></th>\n",
              "      <th>text</th>\n",
              "      <th>tag</th>\n",
              "      <th>words_num</th>\n",
              "      <th>distinct_words_num</th>\n",
              "    </tr>\n",
              "  </thead>\n",
              "  <tbody>\n",
              "    <tr>\n",
              "      <th>0</th>\n",
              "      <td>[ثب, هفته, هزینه, صد, هزار, فرو, میلون, سود, ک...</td>\n",
              "      <td>spam</td>\n",
              "      <td>232</td>\n",
              "      <td>131</td>\n",
              "    </tr>\n",
              "    <tr>\n",
              "      <th>1</th>\n",
              "      <td>[عباس, ممنون, قرار, خریدار, کتاب, طریق, سا, گر...</td>\n",
              "      <td>ham</td>\n",
              "      <td>31</td>\n",
              "      <td>28</td>\n",
              "    </tr>\n",
              "    <tr>\n",
              "      <th>2</th>\n",
              "      <td>[سلا, قبلا, ال, بگ, هزینه, دکتر, آزاد, سال, قب...</td>\n",
              "      <td>ham</td>\n",
              "      <td>109</td>\n",
              "      <td>61</td>\n",
              "    </tr>\n",
              "    <tr>\n",
              "      <th>3</th>\n",
              "      <td>[سلا, جانب, رضا, ناصر, مدرک, کارشناس, مکانیک, ...</td>\n",
              "      <td>ham</td>\n",
              "      <td>24</td>\n",
              "      <td>24</td>\n",
              "    </tr>\n",
              "    <tr>\n",
              "      <th>4</th>\n",
              "      <td>[معصومه, خان, ممنون, قدر, تعریف, وظیف, انجا, م...</td>\n",
              "      <td>ham</td>\n",
              "      <td>105</td>\n",
              "      <td>73</td>\n",
              "    </tr>\n",
              "  </tbody>\n",
              "</table>\n",
              "</div>"
            ],
            "text/plain": [
              "                                                text  ... distinct_words_num\n",
              "0  [ثب, هفته, هزینه, صد, هزار, فرو, میلون, سود, ک...  ...                131\n",
              "1  [عباس, ممنون, قرار, خریدار, کتاب, طریق, سا, گر...  ...                 28\n",
              "2  [سلا, قبلا, ال, بگ, هزینه, دکتر, آزاد, سال, قب...  ...                 61\n",
              "3  [سلا, جانب, رضا, ناصر, مدرک, کارشناس, مکانیک, ...  ...                 24\n",
              "4  [معصومه, خان, ممنون, قدر, تعریف, وظیف, انجا, م...  ...                 73\n",
              "\n",
              "[5 rows x 4 columns]"
            ]
          },
          "metadata": {
            "tags": []
          },
          "execution_count": 14
        }
      ]
    },
    {
      "cell_type": "code",
      "metadata": {
        "id": "QHfUxDC2AqhO",
        "colab": {
          "base_uri": "https://localhost:8080/"
        },
        "outputId": "c6157009-721d-4c51-a697-9f1d359076a0"
      },
      "source": [
        "def all_words(data):\n",
        "  words = set()\n",
        "  for text in data.text:\n",
        "    for word in text:\n",
        "      words.add(word)\n",
        "  return words\n",
        "\n",
        "train_words = all_words(train_set)\n",
        "test_words = all_words(test_set)\n",
        "\n",
        "print('train set = all words: ', sum(train_set.words_num), ' and distinct words: ', len(train_words))\n",
        "print('test set = all words: ', sum(test_set.words_num), ' and distinct words: ', len(test_words))"
      ],
      "execution_count": 15,
      "outputs": [
        {
          "output_type": "stream",
          "text": [
            "train set = all words:  96557  and distinct words:  9206\n",
            "test set = all words:  61127  and distinct words:  7753\n"
          ],
          "name": "stdout"
        }
      ]
    },
    {
      "cell_type": "markdown",
      "metadata": {
        "id": "hBIgFmAhzw62"
      },
      "source": [
        "##Dev data extraction"
      ]
    },
    {
      "cell_type": "code",
      "metadata": {
        "id": "XVUzki5vzs-x",
        "colab": {
          "base_uri": "https://localhost:8080/"
        },
        "outputId": "12ab95fa-8916-43f8-dfb8-a75b6d696cf7"
      },
      "source": [
        "train_set.shape"
      ],
      "execution_count": 16,
      "outputs": [
        {
          "output_type": "execute_result",
          "data": {
            "text/plain": [
              "(600, 4)"
            ]
          },
          "metadata": {
            "tags": []
          },
          "execution_count": 16
        }
      ]
    },
    {
      "cell_type": "code",
      "metadata": {
        "id": "Yz4v-FARz3fK",
        "colab": {
          "base_uri": "https://localhost:8080/"
        },
        "outputId": "e4320d82-3619-422d-b104-9c0f49b56155"
      },
      "source": [
        "test_set.shape"
      ],
      "execution_count": 17,
      "outputs": [
        {
          "output_type": "execute_result",
          "data": {
            "text/plain": [
              "(400, 4)"
            ]
          },
          "metadata": {
            "tags": []
          },
          "execution_count": 17
        }
      ]
    },
    {
      "cell_type": "markdown",
      "metadata": {
        "id": "jBkxE0zAz7rX"
      },
      "source": [
        "=> train_data = 600, test_data = 200, dev_data = 200"
      ]
    },
    {
      "cell_type": "code",
      "metadata": {
        "id": "N27jR-Fm0Ih2"
      },
      "source": [
        "dev_set = test_set[:200]\n",
        "test_set = test_set[200:]\n",
        "\n",
        "# data was shuffeled before"
      ],
      "execution_count": 18,
      "outputs": []
    },
    {
      "cell_type": "markdown",
      "metadata": {
        "id": "G-pBw1cOQpxZ"
      },
      "source": [
        "#Vectorizer"
      ]
    },
    {
      "cell_type": "code",
      "metadata": {
        "id": "jMfJICIoQwYB"
      },
      "source": [
        "class TfIdf:\n",
        "  def __init__(self, words):\n",
        "    self.words = words\n",
        "    self.w2i = {word: idx for idx, word in enumerate(self.words)}\n",
        "\n",
        "  def fit_transform(self, data_set):\n",
        "    self.df = {}\n",
        "    for text in data_set:\n",
        "      distinct_words = set(text)\n",
        "      for word in distinct_words:\n",
        "        if word not in self.df:\n",
        "          self.df[word] = 0\n",
        "        self.df[word] += 1\n",
        "    return self.transform(data_set)\n",
        "\n",
        "  def transform(self, data_set):\n",
        "    row = []\n",
        "    col = []\n",
        "    vectorized_data = []\n",
        "    data_size = len(data_set)\n",
        "    \n",
        "    for idx, text in enumerate(data_set):\n",
        "      word_freq = {}\n",
        "      for word in text:\n",
        "        if word in self.words:\n",
        "          if word not in word_freq:\n",
        "            word_freq[word] = 0\n",
        "          word_freq[word] += 1\n",
        "      for word in word_freq.keys():\n",
        "        row.append(idx)\n",
        "        col.append(self.w2i[word])\n",
        "        tfidf = (int(((np.log10(word_freq[word]) + 1) * (np.log10(data_size / self.df[word]))) * 100)) / 100\n",
        "        vectorized_data.append(tfidf)\n",
        "\n",
        "    return sparse.csr_matrix((vectorized_data, (row, col)), shape=(data_size, len(self.words)))\n",
        "\n",
        "  def get_feature_names(self):\n",
        "    return self.w2i.keys()"
      ],
      "execution_count": 19,
      "outputs": []
    },
    {
      "cell_type": "markdown",
      "metadata": {
        "id": "mH2KWl11CntI"
      },
      "source": [
        "#Feature Extraction"
      ]
    },
    {
      "cell_type": "code",
      "metadata": {
        "id": "hrY05QZ6jp1X"
      },
      "source": [
        "X_train = train_set.text.to_list()\n",
        "y_train = train_set.tag.to_list()\n",
        "X_test = test_set.text.to_list()\n",
        "y_test = test_set.tag.to_list()\n",
        "X_dev = dev_set.text.to_list()\n",
        "y_dev = dev_set.tag.to_list()"
      ],
      "execution_count": 20,
      "outputs": []
    },
    {
      "cell_type": "markdown",
      "metadata": {
        "id": "eg07-Ea1k2Yk"
      },
      "source": [
        "vectorize"
      ]
    },
    {
      "cell_type": "code",
      "metadata": {
        "id": "LZfMJEs4lAvQ"
      },
      "source": [
        "vectorizer = TfIdf(train_words)\n",
        "X_train_vectorized = vectorizer.fit_transform(X_train).toarray()\n",
        "X_test_vectorized = vectorizer.transform(X_test).toarray()\n",
        "X_dev_vectorized = vectorizer.transform(X_dev).toarray()"
      ],
      "execution_count": 21,
      "outputs": []
    },
    {
      "cell_type": "code",
      "metadata": {
        "id": "mlflLnrQmUnN",
        "colab": {
          "base_uri": "https://localhost:8080/"
        },
        "outputId": "ba6288dc-35d1-49f3-bf97-9c63bbf46df7"
      },
      "source": [
        "X_train_vectorized.shape"
      ],
      "execution_count": 22,
      "outputs": [
        {
          "output_type": "execute_result",
          "data": {
            "text/plain": [
              "(600, 9206)"
            ]
          },
          "metadata": {
            "tags": []
          },
          "execution_count": 22
        }
      ]
    },
    {
      "cell_type": "code",
      "metadata": {
        "colab": {
          "base_uri": "https://localhost:8080/"
        },
        "id": "zSaw-rBCAfq3",
        "outputId": "721df1b0-1a59-4c62-a134-9ea3471a8ebd"
      },
      "source": [
        "X_train_vectorized"
      ],
      "execution_count": 23,
      "outputs": [
        {
          "output_type": "execute_result",
          "data": {
            "text/plain": [
              "array([[0.13, 0.  , 0.  , ..., 0.  , 0.  , 0.  ],\n",
              "       [0.08, 0.  , 0.  , ..., 0.  , 0.  , 0.  ],\n",
              "       [0.13, 0.  , 0.  , ..., 0.  , 0.  , 0.  ],\n",
              "       ...,\n",
              "       [0.21, 0.  , 0.  , ..., 0.  , 0.  , 0.  ],\n",
              "       [0.1 , 0.  , 0.  , ..., 0.  , 0.  , 0.  ],\n",
              "       [0.13, 0.  , 0.  , ..., 0.  , 0.  , 0.  ]])"
            ]
          },
          "metadata": {
            "tags": []
          },
          "execution_count": 23
        }
      ]
    },
    {
      "cell_type": "code",
      "metadata": {
        "id": "6kspztoynRxb",
        "colab": {
          "base_uri": "https://localhost:8080/"
        },
        "outputId": "0c36dfd9-e4bb-4d5e-b8c7-782035649816"
      },
      "source": [
        "X_test_vectorized.shape"
      ],
      "execution_count": 24,
      "outputs": [
        {
          "output_type": "execute_result",
          "data": {
            "text/plain": [
              "(200, 9206)"
            ]
          },
          "metadata": {
            "tags": []
          },
          "execution_count": 24
        }
      ]
    },
    {
      "cell_type": "code",
      "metadata": {
        "id": "ehhireKr0xuf",
        "colab": {
          "base_uri": "https://localhost:8080/"
        },
        "outputId": "fd321045-4948-4dc2-8bb9-cda2fd9e6e0e"
      },
      "source": [
        "X_dev_vectorized.shape"
      ],
      "execution_count": 25,
      "outputs": [
        {
          "output_type": "execute_result",
          "data": {
            "text/plain": [
              "(200, 9206)"
            ]
          },
          "metadata": {
            "tags": []
          },
          "execution_count": 25
        }
      ]
    },
    {
      "cell_type": "markdown",
      "metadata": {
        "id": "64JPZ00wXO0t"
      },
      "source": [
        "Applying Chi2"
      ]
    },
    {
      "cell_type": "markdown",
      "metadata": {
        "id": "qls6g8H-pHI5"
      },
      "source": [
        "k = 500"
      ]
    },
    {
      "cell_type": "code",
      "metadata": {
        "id": "m8tNjT3OXQzv"
      },
      "source": [
        "transformer_500 = SelectKBest(chi2, k=500).fit(X_train_vectorized, y_train)\n",
        "X_train_vectorized_500 = transformer_500.transform(X_train_vectorized)\n",
        "X_test_vectorized_500 = transformer_500.transform(X_test_vectorized)\n",
        "X_dev_vectorized_500 = transformer_500.transform(X_dev_vectorized)"
      ],
      "execution_count": 26,
      "outputs": []
    },
    {
      "cell_type": "code",
      "metadata": {
        "id": "ylFdnE6kXW-4",
        "colab": {
          "base_uri": "https://localhost:8080/"
        },
        "outputId": "2ddb86b3-aa59-4ee6-c285-4ab7a8f4d679"
      },
      "source": [
        "X_train_vectorized_500.shape"
      ],
      "execution_count": 27,
      "outputs": [
        {
          "output_type": "execute_result",
          "data": {
            "text/plain": [
              "(600, 500)"
            ]
          },
          "metadata": {
            "tags": []
          },
          "execution_count": 27
        }
      ]
    },
    {
      "cell_type": "code",
      "metadata": {
        "id": "4-Ni1csXXwV3",
        "colab": {
          "base_uri": "https://localhost:8080/"
        },
        "outputId": "3d1d5d33-82b7-4980-ee3a-315eefb27d8a"
      },
      "source": [
        "X_test_vectorized_500.shape"
      ],
      "execution_count": 28,
      "outputs": [
        {
          "output_type": "execute_result",
          "data": {
            "text/plain": [
              "(200, 500)"
            ]
          },
          "metadata": {
            "tags": []
          },
          "execution_count": 28
        }
      ]
    },
    {
      "cell_type": "code",
      "metadata": {
        "id": "kmrHwL1m06EM",
        "colab": {
          "base_uri": "https://localhost:8080/"
        },
        "outputId": "ed760cf1-71ef-4376-e58c-01fc914367f8"
      },
      "source": [
        "X_dev_vectorized_500.shape"
      ],
      "execution_count": 29,
      "outputs": [
        {
          "output_type": "execute_result",
          "data": {
            "text/plain": [
              "(200, 500)"
            ]
          },
          "metadata": {
            "tags": []
          },
          "execution_count": 29
        }
      ]
    },
    {
      "cell_type": "markdown",
      "metadata": {
        "id": "XIvIioNEpJs_"
      },
      "source": [
        "k = 200"
      ]
    },
    {
      "cell_type": "code",
      "metadata": {
        "id": "D_6NpN9oCpzk"
      },
      "source": [
        "transformer_200 = SelectKBest(chi2, k=200).fit(X_train_vectorized, y_train)\n",
        "X_train_vectorized_200 = transformer_200.transform(X_train_vectorized)\n",
        "X_test_vectorized_200 = transformer_200.transform(X_test_vectorized)\n",
        "X_dev_vectorized_200 = transformer_200.transform(X_dev_vectorized)"
      ],
      "execution_count": 30,
      "outputs": []
    },
    {
      "cell_type": "code",
      "metadata": {
        "id": "gVFSm3Nuox_D",
        "colab": {
          "base_uri": "https://localhost:8080/"
        },
        "outputId": "c8fffce3-eb53-456c-c82c-d5dc350f2dc1"
      },
      "source": [
        "X_train_vectorized_200.shape"
      ],
      "execution_count": 31,
      "outputs": [
        {
          "output_type": "execute_result",
          "data": {
            "text/plain": [
              "(600, 200)"
            ]
          },
          "metadata": {
            "tags": []
          },
          "execution_count": 31
        }
      ]
    },
    {
      "cell_type": "code",
      "metadata": {
        "id": "JngjfDOwo1LL",
        "colab": {
          "base_uri": "https://localhost:8080/"
        },
        "outputId": "97311bd5-3860-4b08-fb2f-94bb70a8f9ef"
      },
      "source": [
        "X_test_vectorized_200.shape"
      ],
      "execution_count": 32,
      "outputs": [
        {
          "output_type": "execute_result",
          "data": {
            "text/plain": [
              "(200, 200)"
            ]
          },
          "metadata": {
            "tags": []
          },
          "execution_count": 32
        }
      ]
    },
    {
      "cell_type": "code",
      "metadata": {
        "id": "UHlfNj4909A7",
        "colab": {
          "base_uri": "https://localhost:8080/"
        },
        "outputId": "59737e7f-a8e6-4853-8687-4e97687351a4"
      },
      "source": [
        "X_dev_vectorized_200.shape"
      ],
      "execution_count": 33,
      "outputs": [
        {
          "output_type": "execute_result",
          "data": {
            "text/plain": [
              "(200, 200)"
            ]
          },
          "metadata": {
            "tags": []
          },
          "execution_count": 33
        }
      ]
    },
    {
      "cell_type": "code",
      "metadata": {
        "id": "3TOrhFBawlUM",
        "colab": {
          "base_uri": "https://localhost:8080/",
          "height": 0
        },
        "outputId": "e3242c60-5af0-4fa4-fc65-0e372fa45eff"
      },
      "source": [
        "# plot the most important words identified by chi2\n",
        "\n",
        "chi2score = chi2(X_train_vectorized, y_train)[0]\n",
        "plt.figure(figsize=(10,5))\n",
        "wscores = zip(vectorizer.get_feature_names(), chi2score)\n",
        "wchi2 = sorted(wscores, key=lambda x:x[1])\n",
        "topchi2 = list(zip(*wchi2[-20:]))\n",
        "x = range(len(topchi2[1]))\n",
        "labels = topchi2[0]\n",
        "plt.barh(x,topchi2[1], align='center', alpha=0.2)\n",
        "plt.plot(topchi2[1], x, '-o', markersize=5, alpha=0.8)\n",
        "plt.yticks(x, labels)\n",
        "plt.xlabel('$\\chi^2$')"
      ],
      "execution_count": 34,
      "outputs": [
        {
          "output_type": "execute_result",
          "data": {
            "text/plain": [
              "Text(0.5, 0, '$\\\\chi^2$')"
            ]
          },
          "metadata": {
            "tags": []
          },
          "execution_count": 34
        },
        {
          "output_type": "display_data",
          "data": {
            "image/png": "[encoded data removed]",
            "text/plain": [
              "<Figure size 720x360 with 1 Axes>"
            ]
          },
          "metadata": {
            "tags": [],
            "needs_background": "light"
          }
        }
      ]
    },
    {
      "cell_type": "markdown",
      "metadata": {
        "id": "dLtaENvzFMRw"
      },
      "source": [
        "#Naive Bayse"
      ]
    },
    {
      "cell_type": "code",
      "metadata": {
        "id": "p_EjJQrSFOUH"
      },
      "source": [
        "class NaiveBayes:\n",
        "  def fit(self, X, y, words):\n",
        "    self.words = words\n",
        "    self.tags = set(y)\n",
        "    self.tag_probs = {tag: y.count(tag) / len(y) for tag in self.tags}\n",
        "    self.word_tag_freq = {tag: {} for tag in self.tags}\n",
        "\n",
        "    for text, tag in zip(X, y):\n",
        "      for word in text:\n",
        "        if word not in self.word_tag_freq[tag]:\n",
        "          self.word_tag_freq[tag][word] = 0\n",
        "        self.word_tag_freq[tag][word] += 1\n",
        "\n",
        "  def predict(self, X):\n",
        "    predicted_tags = []\n",
        "    probs = {tag: 0 for tag in self.tags}\n",
        "    for text in X:\n",
        "      for tag in self.tags:\n",
        "        probs[tag] = np.log10(self.tag_probs[tag])\n",
        "        for word in text:\n",
        "          word_freq = 0\n",
        "          if word in self.word_tag_freq[tag]:\n",
        "            word_freq = self.word_tag_freq[tag][word]\n",
        "        probs[tag] += np.log10((word_freq + 1) / (sum(self.word_tag_freq[tag].values()) + len(self.words)))\n",
        "      predicted_tags.append(max(probs, key=probs.get))\n",
        "\n",
        "    return predicted_tags"
      ],
      "execution_count": 35,
      "outputs": []
    },
    {
      "cell_type": "markdown",
      "metadata": {
        "id": "JLEO_Kz_Ml_p"
      },
      "source": [
        "#KNN"
      ]
    },
    {
      "cell_type": "code",
      "metadata": {
        "id": "SwB-zI7mMjO_"
      },
      "source": [
        "class KNN:\n",
        "  def __init__(self, k):\n",
        "    self.k = k\n",
        "\n",
        "  def fit(self, X, y):\n",
        "    self.X_train = X\n",
        "    self.y_train = y\n",
        "\n",
        "  def predict(self, X_test, similarity_type = 'cosin'):\n",
        "    predicted_tags = []\n",
        "\n",
        "    if similarity_type == 'cosin':\n",
        "      similarities = cosine_similarity(X_test, self.X_train)\n",
        "      for idx in range(len(similarities)):\n",
        "        nearests = np.argsort(similarities[idx])[::-1][:self.k]\n",
        "        nearest_tags = [self.y_train[near] for near in nearests]\n",
        "        predicted_tags.append(stats.mode(nearest_tags)[0])\n",
        "    else:\n",
        "      distances = self.tfidf_distance(X_test, self.X_train)\n",
        "      for idx in range(len(distances)):\n",
        "        nearests = np.argsort(distances[idx])[:self.k]\n",
        "        nearest_tags = [self.y_train[near] for near in nearests]\n",
        "        predicted_tags.append(stats.mode(nearest_tags)[0])\n",
        "\n",
        "    return predicted_tags\n",
        "\n",
        "  def tfidf_distance(self, X_test, X_train):\n",
        "    train_tfidf = [(sum([tfidf for tfidf in text])) for text in X_train]\n",
        "    test_tfidf = [(sum([tfidf for tfidf in text])) for text in X_test]\n",
        "    distances = [[(abs(test - train)) for train in train_tfidf] for test in test_tfidf]\n",
        "    return distances\n"
      ],
      "execution_count": 44,
      "outputs": []
    },
    {
      "cell_type": "markdown",
      "metadata": {
        "id": "uix0quSNpZ4T"
      },
      "source": [
        "#Train"
      ]
    },
    {
      "cell_type": "markdown",
      "metadata": {
        "id": "nCCAuF-L7Txj"
      },
      "source": [
        "##KNN"
      ]
    },
    {
      "cell_type": "code",
      "metadata": {
        "id": "rOJnw94NzWGL"
      },
      "source": [
        "def explore(X_train, y_train, X_dev, y_dev):\n",
        "  for k in range(3, 11, 2):\n",
        "    knn = KNN(k)\n",
        "    knn.fit(X_train, y_train)\n",
        "    #cosin similarity\n",
        "    knn_predictions = knn.predict(X_dev)\n",
        "    print(\"برای \", k, \" همسایه \", \"و شباهت کوسینوسی: \")\n",
        "    print(classification_report(y_dev, knn_predictions))\n",
        "    #tfidf similarity\n",
        "    knn_predictions = knn.predict(X_dev, similarity_type = 'tfidf')\n",
        "    print(\"برای \", k, \" همسایه \", \"و شباهت غیرکوسینوسی: \")\n",
        "    print(classification_report(y_dev, knn_predictions))\n"
      ],
      "execution_count": 45,
      "outputs": []
    },
    {
      "cell_type": "markdown",
      "metadata": {
        "id": "Iq9GWUZ6vS1R"
      },
      "source": [
        "###KNN - with out chi2"
      ]
    },
    {
      "cell_type": "code",
      "metadata": {
        "id": "Ykokp0i07Yk7",
        "colab": {
          "base_uri": "https://localhost:8080/"
        },
        "outputId": "399f8570-6051-424b-97bb-55fcfa8ae0e7"
      },
      "source": [
        "explore(X_train_vectorized, y_train, X_dev_vectorized, y_dev)"
      ],
      "execution_count": 46,
      "outputs": [
        {
          "output_type": "stream",
          "text": [
            "برای  3  همسایه  و شباهت کوسینوسی: \n",
            "              precision    recall  f1-score   support\n",
            "\n",
            "         ham       0.94      0.93      0.94       102\n",
            "        spam       0.93      0.94      0.93        98\n",
            "\n",
            "    accuracy                           0.94       200\n",
            "   macro avg       0.93      0.94      0.93       200\n",
            "weighted avg       0.94      0.94      0.94       200\n",
            "\n",
            "برای  3  همسایه  و شباهت غیرکوسینوسی: \n",
            "              precision    recall  f1-score   support\n",
            "\n",
            "         ham       0.56      0.66      0.60       102\n",
            "        spam       0.56      0.46      0.51        98\n",
            "\n",
            "    accuracy                           0.56       200\n",
            "   macro avg       0.56      0.56      0.55       200\n",
            "weighted avg       0.56      0.56      0.56       200\n",
            "\n",
            "برای  5  همسایه  و شباهت کوسینوسی: \n",
            "              precision    recall  f1-score   support\n",
            "\n",
            "         ham       0.93      0.95      0.94       102\n",
            "        spam       0.95      0.93      0.94        98\n",
            "\n",
            "    accuracy                           0.94       200\n",
            "   macro avg       0.94      0.94      0.94       200\n",
            "weighted avg       0.94      0.94      0.94       200\n",
            "\n",
            "برای  5  همسایه  و شباهت غیرکوسینوسی: \n",
            "              precision    recall  f1-score   support\n",
            "\n",
            "         ham       0.56      0.72      0.63       102\n",
            "        spam       0.58      0.41      0.48        98\n",
            "\n",
            "    accuracy                           0.56       200\n",
            "   macro avg       0.57      0.56      0.55       200\n",
            "weighted avg       0.57      0.56      0.55       200\n",
            "\n",
            "برای  7  همسایه  و شباهت کوسینوسی: \n",
            "              precision    recall  f1-score   support\n",
            "\n",
            "         ham       0.93      0.96      0.95       102\n",
            "        spam       0.96      0.93      0.94        98\n",
            "\n",
            "    accuracy                           0.94       200\n",
            "   macro avg       0.95      0.94      0.94       200\n",
            "weighted avg       0.95      0.94      0.94       200\n",
            "\n",
            "برای  7  همسایه  و شباهت غیرکوسینوسی: \n",
            "              precision    recall  f1-score   support\n",
            "\n",
            "         ham       0.57      0.72      0.63       102\n",
            "        spam       0.60      0.44      0.51        98\n",
            "\n",
            "    accuracy                           0.58       200\n",
            "   macro avg       0.58      0.58      0.57       200\n",
            "weighted avg       0.58      0.58      0.57       200\n",
            "\n",
            "برای  9  همسایه  و شباهت کوسینوسی: \n",
            "              precision    recall  f1-score   support\n",
            "\n",
            "         ham       0.92      0.97      0.94       102\n",
            "        spam       0.97      0.91      0.94        98\n",
            "\n",
            "    accuracy                           0.94       200\n",
            "   macro avg       0.94      0.94      0.94       200\n",
            "weighted avg       0.94      0.94      0.94       200\n",
            "\n",
            "برای  9  همسایه  و شباهت غیرکوسینوسی: \n",
            "              precision    recall  f1-score   support\n",
            "\n",
            "         ham       0.56      0.72      0.63       102\n",
            "        spam       0.58      0.41      0.48        98\n",
            "\n",
            "    accuracy                           0.56       200\n",
            "   macro avg       0.57      0.56      0.55       200\n",
            "weighted avg       0.57      0.56      0.55       200\n",
            "\n"
          ],
          "name": "stdout"
        }
      ]
    },
    {
      "cell_type": "markdown",
      "metadata": {
        "id": "NDJt2s5Y6JED"
      },
      "source": [
        " مقایسه نتایج بالا با توجه به هدف و اهمیت هر معیار میتواند متفاوت باشد. ولی بطور کلی با ۷ همسایه و شباهت کسینوسی نتایج نسبتا بهتری گرفته ایم."
      ]
    },
    {
      "cell_type": "code",
      "metadata": {
        "id": "PYmLIuoE7luf"
      },
      "source": [
        "knn = KNN(7)\n",
        "knn.fit(X_train_vectorized, y_train)"
      ],
      "execution_count": 47,
      "outputs": []
    },
    {
      "cell_type": "markdown",
      "metadata": {
        "id": "uwk_YtUivanr"
      },
      "source": [
        "###KNN - chi2(k=500)"
      ]
    },
    {
      "cell_type": "code",
      "metadata": {
        "id": "QEUaoh3E73hH",
        "colab": {
          "base_uri": "https://localhost:8080/"
        },
        "outputId": "aba33eb0-6d13-44e3-c25a-72f8442c4952"
      },
      "source": [
        "explore(X_train_vectorized_500, y_train, X_dev_vectorized_500, y_dev)"
      ],
      "execution_count": 48,
      "outputs": [
        {
          "output_type": "stream",
          "text": [
            "برای  3  همسایه  و شباهت کوسینوسی: \n",
            "              precision    recall  f1-score   support\n",
            "\n",
            "         ham       0.88      0.97      0.93       102\n",
            "        spam       0.97      0.87      0.91        98\n",
            "\n",
            "    accuracy                           0.92       200\n",
            "   macro avg       0.92      0.92      0.92       200\n",
            "weighted avg       0.92      0.92      0.92       200\n",
            "\n",
            "برای  3  همسایه  و شباهت غیرکوسینوسی: \n",
            "              precision    recall  f1-score   support\n",
            "\n",
            "         ham       0.63      0.92      0.75       102\n",
            "        spam       0.84      0.43      0.57        98\n",
            "\n",
            "    accuracy                           0.68       200\n",
            "   macro avg       0.73      0.68      0.66       200\n",
            "weighted avg       0.73      0.68      0.66       200\n",
            "\n",
            "برای  5  همسایه  و شباهت کوسینوسی: \n",
            "              precision    recall  f1-score   support\n",
            "\n",
            "         ham       0.88      0.97      0.93       102\n",
            "        spam       0.97      0.87      0.91        98\n",
            "\n",
            "    accuracy                           0.92       200\n",
            "   macro avg       0.92      0.92      0.92       200\n",
            "weighted avg       0.92      0.92      0.92       200\n",
            "\n",
            "برای  5  همسایه  و شباهت غیرکوسینوسی: \n",
            "              precision    recall  f1-score   support\n",
            "\n",
            "         ham       0.62      0.92      0.74       102\n",
            "        spam       0.83      0.41      0.55        98\n",
            "\n",
            "    accuracy                           0.67       200\n",
            "   macro avg       0.73      0.66      0.64       200\n",
            "weighted avg       0.72      0.67      0.65       200\n",
            "\n",
            "برای  7  همسایه  و شباهت کوسینوسی: \n",
            "              precision    recall  f1-score   support\n",
            "\n",
            "         ham       0.88      0.97      0.92       102\n",
            "        spam       0.97      0.86      0.91        98\n",
            "\n",
            "    accuracy                           0.92       200\n",
            "   macro avg       0.92      0.91      0.91       200\n",
            "weighted avg       0.92      0.92      0.91       200\n",
            "\n",
            "برای  7  همسایه  و شباهت غیرکوسینوسی: \n",
            "              precision    recall  f1-score   support\n",
            "\n",
            "         ham       0.63      0.95      0.76       102\n",
            "        spam       0.89      0.42      0.57        98\n",
            "\n",
            "    accuracy                           0.69       200\n",
            "   macro avg       0.76      0.68      0.66       200\n",
            "weighted avg       0.76      0.69      0.67       200\n",
            "\n",
            "برای  9  همسایه  و شباهت کوسینوسی: \n",
            "              precision    recall  f1-score   support\n",
            "\n",
            "         ham       0.88      0.96      0.92       102\n",
            "        spam       0.96      0.87      0.91        98\n",
            "\n",
            "    accuracy                           0.92       200\n",
            "   macro avg       0.92      0.91      0.91       200\n",
            "weighted avg       0.92      0.92      0.91       200\n",
            "\n",
            "برای  9  همسایه  و شباهت غیرکوسینوسی: \n",
            "              precision    recall  f1-score   support\n",
            "\n",
            "         ham       0.64      0.93      0.76       102\n",
            "        spam       0.86      0.45      0.59        98\n",
            "\n",
            "    accuracy                           0.69       200\n",
            "   macro avg       0.75      0.69      0.67       200\n",
            "weighted avg       0.75      0.69      0.68       200\n",
            "\n"
          ],
          "name": "stdout"
        }
      ]
    },
    {
      "cell_type": "markdown",
      "metadata": {
        "id": "2F0BVmeU8MCD"
      },
      "source": [
        " مقایسه نتایج بالا با توجه به هدف و اهمیت هر معیار میتواند متفاوت باشد. ولی بطور کلی با ۳ همسایه و شباهت کسینوسی نتایج نسبتا بهتری گرفته ایم."
      ]
    },
    {
      "cell_type": "code",
      "metadata": {
        "id": "Dz8w7QUK8P3K"
      },
      "source": [
        "knn_500 = KNN(3)\n",
        "knn_500.fit(X_train_vectorized_500, y_train)"
      ],
      "execution_count": 49,
      "outputs": []
    },
    {
      "cell_type": "markdown",
      "metadata": {
        "id": "AaFG8bGnvl2b"
      },
      "source": [
        "###KNN - chi2(k=200)"
      ]
    },
    {
      "cell_type": "code",
      "metadata": {
        "id": "djc4bbwB8YlD",
        "colab": {
          "base_uri": "https://localhost:8080/"
        },
        "outputId": "968c5df3-4a53-4137-e395-fa1bb7f50c3d"
      },
      "source": [
        "explore(X_train_vectorized_200, y_train, X_dev_vectorized_200, y_dev)"
      ],
      "execution_count": 50,
      "outputs": [
        {
          "output_type": "stream",
          "text": [
            "برای  3  همسایه  و شباهت کوسینوسی: \n",
            "              precision    recall  f1-score   support\n",
            "\n",
            "         ham       0.87      0.98      0.92       102\n",
            "        spam       0.98      0.85      0.91        98\n",
            "\n",
            "    accuracy                           0.92       200\n",
            "   macro avg       0.92      0.91      0.91       200\n",
            "weighted avg       0.92      0.92      0.91       200\n",
            "\n",
            "برای  3  همسایه  و شباهت غیرکوسینوسی: \n",
            "              precision    recall  f1-score   support\n",
            "\n",
            "         ham       0.62      0.99      0.76       102\n",
            "        spam       0.97      0.37      0.53        98\n",
            "\n",
            "    accuracy                           0.69       200\n",
            "   macro avg       0.80      0.68      0.65       200\n",
            "weighted avg       0.79      0.69      0.65       200\n",
            "\n",
            "برای  5  همسایه  و شباهت کوسینوسی: \n",
            "              precision    recall  f1-score   support\n",
            "\n",
            "         ham       0.88      0.96      0.92       102\n",
            "        spam       0.96      0.87      0.91        98\n",
            "\n",
            "    accuracy                           0.92       200\n",
            "   macro avg       0.92      0.91      0.91       200\n",
            "weighted avg       0.92      0.92      0.91       200\n",
            "\n",
            "برای  5  همسایه  و شباهت غیرکوسینوسی: \n",
            "              precision    recall  f1-score   support\n",
            "\n",
            "         ham       0.61      1.00      0.76       102\n",
            "        spam       1.00      0.35      0.52        98\n",
            "\n",
            "    accuracy                           0.68       200\n",
            "   macro avg       0.81      0.67      0.64       200\n",
            "weighted avg       0.80      0.68      0.64       200\n",
            "\n",
            "برای  7  همسایه  و شباهت کوسینوسی: \n",
            "              precision    recall  f1-score   support\n",
            "\n",
            "         ham       0.89      0.95      0.92       102\n",
            "        spam       0.95      0.88      0.91        98\n",
            "\n",
            "    accuracy                           0.92       200\n",
            "   macro avg       0.92      0.91      0.91       200\n",
            "weighted avg       0.92      0.92      0.91       200\n",
            "\n",
            "برای  7  همسایه  و شباهت غیرکوسینوسی: \n",
            "              precision    recall  f1-score   support\n",
            "\n",
            "         ham       0.62      1.00      0.77       102\n",
            "        spam       1.00      0.37      0.54        98\n",
            "\n",
            "    accuracy                           0.69       200\n",
            "   macro avg       0.81      0.68      0.65       200\n",
            "weighted avg       0.81      0.69      0.65       200\n",
            "\n",
            "برای  9  همسایه  و شباهت کوسینوسی: \n",
            "              precision    recall  f1-score   support\n",
            "\n",
            "         ham       0.91      0.94      0.92       102\n",
            "        spam       0.94      0.90      0.92        98\n",
            "\n",
            "    accuracy                           0.92       200\n",
            "   macro avg       0.92      0.92      0.92       200\n",
            "weighted avg       0.92      0.92      0.92       200\n",
            "\n",
            "برای  9  همسایه  و شباهت غیرکوسینوسی: \n",
            "              precision    recall  f1-score   support\n",
            "\n",
            "         ham       0.62      1.00      0.77       102\n",
            "        spam       1.00      0.37      0.54        98\n",
            "\n",
            "    accuracy                           0.69       200\n",
            "   macro avg       0.81      0.68      0.65       200\n",
            "weighted avg       0.81      0.69      0.65       200\n",
            "\n"
          ],
          "name": "stdout"
        }
      ]
    },
    {
      "cell_type": "markdown",
      "metadata": {
        "id": "GW-cLMVi8YlD"
      },
      "source": [
        " مقایسه نتایج بالا با توجه به هدف و اهمیت هر معیار میتواند متفاوت باشد. ولی بطور کلی با ۷ همسایه و شباهت کسینوسی نتایج نسبتا بهتری گرفته ایم."
      ]
    },
    {
      "cell_type": "code",
      "metadata": {
        "id": "jPd5Q2no8YlE"
      },
      "source": [
        "knn_200 = KNN(7)\n",
        "knn_200.fit(X_train_vectorized_200, y_train)"
      ],
      "execution_count": 51,
      "outputs": []
    },
    {
      "cell_type": "markdown",
      "metadata": {
        "id": "-OzRnjf4vvKF"
      },
      "source": [
        "##NaiveBayes"
      ]
    },
    {
      "cell_type": "code",
      "metadata": {
        "id": "_kZuRijL7Vt2",
        "colab": {
          "base_uri": "https://localhost:8080/"
        },
        "outputId": "c786027d-ee66-4942-952b-ccd129e59e86"
      },
      "source": [
        "naivebayes = NaiveBayes()\n",
        "naivebayes.fit(X_train, y_train, train_words)\n",
        "naivebayes_predictions = naivebayes.predict(X_dev)\n",
        "print(classification_report(y_dev, naivebayes_predictions))"
      ],
      "execution_count": 52,
      "outputs": [
        {
          "output_type": "stream",
          "text": [
            "              precision    recall  f1-score   support\n",
            "\n",
            "         ham       0.72      0.75      0.73       102\n",
            "        spam       0.72      0.69      0.71        98\n",
            "\n",
            "    accuracy                           0.72       200\n",
            "   macro avg       0.72      0.72      0.72       200\n",
            "weighted avg       0.72      0.72      0.72       200\n",
            "\n"
          ],
          "name": "stdout"
        }
      ]
    },
    {
      "cell_type": "markdown",
      "metadata": {
        "id": "TadTS5WgAU-i"
      },
      "source": [
        "#Evaluate"
      ]
    },
    {
      "cell_type": "markdown",
      "metadata": {
        "id": "khATyugYBTck"
      },
      "source": [
        "##plot confusion matrix"
      ]
    },
    {
      "cell_type": "code",
      "metadata": {
        "id": "9nUCh8VPkvjT"
      },
      "source": [
        "def plot_confusion_matrix(y_true, y_pred, classes,\n",
        "                          normalize=False,\n",
        "                          title=None,\n",
        "                          cmap=plt.cm.Oranges):\n",
        "    \"\"\"\n",
        "    This function prints and plots the confusion matrix.\n",
        "    Normalization can be applied by setting `normalize=True`.\n",
        "    \"\"\"\n",
        "    if not title:\n",
        "        if normalize:\n",
        "            title = 'Normalized confusion matrix'\n",
        "        else:\n",
        "            title = 'Confusion matrix, without normalization'\n",
        "\n",
        "    # Compute confusion matrix\n",
        "    cm = confusion_matrix(y_true, y_pred)\n",
        "    # Only use the labels that appear in the data\n",
        "    # classes = classes[unique_labels(y_true, y_pred)]\n",
        "    if normalize:\n",
        "        cm = cm.astype('float') / cm.sum(axis=1)[:, np.newaxis]\n",
        "        print(\"Normalized confusion matrix\")\n",
        "    else:\n",
        "        print('Confusion matrix, without normalization')\n",
        "\n",
        "    print(cm)\n",
        "\n",
        "    fig, ax = plt.subplots()\n",
        "    im = ax.imshow(cm, interpolation='nearest', cmap=cmap)\n",
        "    ax.figure.colorbar(im, ax=ax)\n",
        "    # We want to show all ticks...\n",
        "    ax.set(xticks=np.arange(cm.shape[1]),\n",
        "           yticks=np.arange(cm.shape[0]),\n",
        "           # ... and label them with the respective list entries\n",
        "           xticklabels=classes, yticklabels=classes,\n",
        "           title=title,\n",
        "           ylabel='True label',\n",
        "           xlabel='Predicted label')\n",
        "\n",
        "    # Rotate the tick labels and set their alignment.\n",
        "    plt.setp(ax.get_xticklabels(), rotation=45, ha=\"right\",\n",
        "             rotation_mode=\"anchor\")\n",
        "\n",
        "    # Loop over data dimensions and create text annotations.\n",
        "    fmt = '.2f' if normalize else 'd'\n",
        "    thresh = cm.max() / 2.\n",
        "    for i in range(cm.shape[0]):\n",
        "        for j in range(cm.shape[1]):\n",
        "            ax.text(j, i, format(cm[i, j], fmt),\n",
        "                    ha=\"center\", va=\"center\",\n",
        "                    color=\"white\" if cm[i, j] > thresh else \"black\")\n",
        "    fig.tight_layout()\n",
        "    plt.xlim(-0.5, len(np.unique(y_test))-0.5)\n",
        "    plt.ylim(len(np.unique(y_test))-0.5, -0.5)\n",
        "    return ax"
      ],
      "execution_count": 53,
      "outputs": []
    },
    {
      "cell_type": "markdown",
      "metadata": {
        "id": "vt3XjGJAAjMr"
      },
      "source": [
        "##KNN - with out chi2"
      ]
    },
    {
      "cell_type": "code",
      "metadata": {
        "id": "RQwAbqZlCFvk",
        "colab": {
          "base_uri": "https://localhost:8080/"
        },
        "outputId": "36c4895f-b8ce-49f6-d311-98104407d6a0"
      },
      "source": [
        "    knn_predictions = knn.predict(X_test_vectorized)\n",
        "    print(classification_report(y_test, knn_predictions))"
      ],
      "execution_count": 54,
      "outputs": [
        {
          "output_type": "stream",
          "text": [
            "              precision    recall  f1-score   support\n",
            "\n",
            "         ham       0.96      0.97      0.96        98\n",
            "        spam       0.97      0.96      0.97       102\n",
            "\n",
            "    accuracy                           0.96       200\n",
            "   macro avg       0.96      0.97      0.96       200\n",
            "weighted avg       0.97      0.96      0.97       200\n",
            "\n"
          ],
          "name": "stdout"
        }
      ]
    },
    {
      "cell_type": "code",
      "metadata": {
        "id": "X4anmAtEDd86",
        "colab": {
          "base_uri": "https://localhost:8080/",
          "height": 366
        },
        "outputId": "c246556d-6df0-428e-bfbb-76b77fe0fbed"
      },
      "source": [
        "plot_confusion_matrix(y_test, knn_predictions, ['spam', 'ham'])"
      ],
      "execution_count": 55,
      "outputs": [
        {
          "output_type": "stream",
          "text": [
            "Confusion matrix, without normalization\n",
            "[[95  3]\n",
            " [ 4 98]]\n"
          ],
          "name": "stdout"
        },
        {
          "output_type": "execute_result",
          "data": {
            "text/plain": [
              "<matplotlib.axes._subplots.AxesSubplot at 0x7fbad71de0b8>"
            ]
          },
          "metadata": {
            "tags": []
          },
          "execution_count": 55
        },
        {
          "output_type": "display_data",
          "data": {
            "image/png": "[encoded data removed]",
            "text/plain": [
              "<Figure size 432x288 with 2 Axes>"
            ]
          },
          "metadata": {
            "tags": [],
            "needs_background": "light"
          }
        }
      ]
    },
    {
      "cell_type": "markdown",
      "metadata": {
        "id": "nzBgmvVvAmRm"
      },
      "source": [
        "##KNN - chi2(k=500)"
      ]
    },
    {
      "cell_type": "code",
      "metadata": {
        "id": "DViJBczXDsc1",
        "colab": {
          "base_uri": "https://localhost:8080/"
        },
        "outputId": "7146a5f7-c60e-480e-ef4d-c8c7f1bb36da"
      },
      "source": [
        "    knn_predictions = knn_500.predict(X_test_vectorized_500)\n",
        "    print(classification_report(y_test, knn_predictions))"
      ],
      "execution_count": 56,
      "outputs": [
        {
          "output_type": "stream",
          "text": [
            "              precision    recall  f1-score   support\n",
            "\n",
            "         ham       0.93      0.96      0.94        98\n",
            "        spam       0.96      0.93      0.95       102\n",
            "\n",
            "    accuracy                           0.94       200\n",
            "   macro avg       0.95      0.95      0.94       200\n",
            "weighted avg       0.95      0.94      0.95       200\n",
            "\n"
          ],
          "name": "stdout"
        }
      ]
    },
    {
      "cell_type": "code",
      "metadata": {
        "id": "VKop_m_lDsc2",
        "colab": {
          "base_uri": "https://localhost:8080/",
          "height": 366
        },
        "outputId": "ba41de09-20ca-46a2-bde7-4c471124afc1"
      },
      "source": [
        "plot_confusion_matrix(y_test, knn_predictions, ['spam', 'ham'])"
      ],
      "execution_count": 57,
      "outputs": [
        {
          "output_type": "stream",
          "text": [
            "Confusion matrix, without normalization\n",
            "[[94  4]\n",
            " [ 7 95]]\n"
          ],
          "name": "stdout"
        },
        {
          "output_type": "execute_result",
          "data": {
            "text/plain": [
              "<matplotlib.axes._subplots.AxesSubplot at 0x7fbad71b55f8>"
            ]
          },
          "metadata": {
            "tags": []
          },
          "execution_count": 57
        },
        {
          "output_type": "display_data",
          "data": {
            "image/png": "[encoded data removed]",
            "text/plain": [
              "<Figure size 432x288 with 2 Axes>"
            ]
          },
          "metadata": {
            "tags": [],
            "needs_background": "light"
          }
        }
      ]
    },
    {
      "cell_type": "markdown",
      "metadata": {
        "id": "5KfRffBUAnnC"
      },
      "source": [
        "##KNN - chi2(k=200)"
      ]
    },
    {
      "cell_type": "code",
      "metadata": {
        "id": "cvoRECC6DtO9",
        "colab": {
          "base_uri": "https://localhost:8080/"
        },
        "outputId": "9c6e959e-b5f8-4d06-fd29-bd9971ea3063"
      },
      "source": [
        "    knn_predictions = knn_200.predict(X_test_vectorized_200)\n",
        "    print(classification_report(y_test, knn_predictions))"
      ],
      "execution_count": 58,
      "outputs": [
        {
          "output_type": "stream",
          "text": [
            "              precision    recall  f1-score   support\n",
            "\n",
            "         ham       0.95      0.91      0.93        98\n",
            "        spam       0.92      0.95      0.93       102\n",
            "\n",
            "    accuracy                           0.93       200\n",
            "   macro avg       0.93      0.93      0.93       200\n",
            "weighted avg       0.93      0.93      0.93       200\n",
            "\n"
          ],
          "name": "stdout"
        }
      ]
    },
    {
      "cell_type": "code",
      "metadata": {
        "id": "06rTb2sFDtO_",
        "colab": {
          "base_uri": "https://localhost:8080/",
          "height": 366
        },
        "outputId": "363eb351-640e-448e-c555-eef8eef60111"
      },
      "source": [
        "plot_confusion_matrix(y_test, knn_predictions, ['spam', 'ham'])"
      ],
      "execution_count": 59,
      "outputs": [
        {
          "output_type": "stream",
          "text": [
            "Confusion matrix, without normalization\n",
            "[[89  9]\n",
            " [ 5 97]]\n"
          ],
          "name": "stdout"
        },
        {
          "output_type": "execute_result",
          "data": {
            "text/plain": [
              "<matplotlib.axes._subplots.AxesSubplot at 0x7fbad7184ac8>"
            ]
          },
          "metadata": {
            "tags": []
          },
          "execution_count": 59
        },
        {
          "output_type": "display_data",
          "data": {
            "image/png": "[encoded data removed]",
            "text/plain": [
              "<Figure size 432x288 with 2 Axes>"
            ]
          },
          "metadata": {
            "tags": [],
            "needs_background": "light"
          }
        }
      ]
    },
    {
      "cell_type": "markdown",
      "metadata": {
        "id": "6cGvg-CdAqWw"
      },
      "source": [
        "##NaiveBayes"
      ]
    },
    {
      "cell_type": "code",
      "metadata": {
        "id": "shIVzeJOAdET",
        "colab": {
          "base_uri": "https://localhost:8080/"
        },
        "outputId": "3d95642d-6c24-40f6-ab80-806b20d01828"
      },
      "source": [
        "naivebayes_predictions = naivebayes.predict(X_test)\n",
        "print(classification_report(y_test, naivebayes_predictions))"
      ],
      "execution_count": 60,
      "outputs": [
        {
          "output_type": "stream",
          "text": [
            "              precision    recall  f1-score   support\n",
            "\n",
            "         ham       0.62      0.74      0.68        98\n",
            "        spam       0.70      0.57      0.63       102\n",
            "\n",
            "    accuracy                           0.66       200\n",
            "   macro avg       0.66      0.66      0.65       200\n",
            "weighted avg       0.66      0.66      0.65       200\n",
            "\n"
          ],
          "name": "stdout"
        }
      ]
    },
    {
      "cell_type": "code",
      "metadata": {
        "id": "jXAbR1iXA47O",
        "colab": {
          "base_uri": "https://localhost:8080/",
          "height": 366
        },
        "outputId": "2d1f699c-0546-49d3-a93e-ca508d98e0b9"
      },
      "source": [
        "plot_confusion_matrix(y_test, naivebayes_predictions, ['spam', 'ham'])"
      ],
      "execution_count": 61,
      "outputs": [
        {
          "output_type": "stream",
          "text": [
            "Confusion matrix, without normalization\n",
            "[[73 25]\n",
            " [44 58]]\n"
          ],
          "name": "stdout"
        },
        {
          "output_type": "execute_result",
          "data": {
            "text/plain": [
              "<matplotlib.axes._subplots.AxesSubplot at 0x7fbad7119ef0>"
            ]
          },
          "metadata": {
            "tags": []
          },
          "execution_count": 61
        },
        {
          "output_type": "display_data",
          "data": {
            "image/png": "[encoded data removed]",
            "text/plain": [
              "<Figure size 432x288 with 2 Axes>"
            ]
          },
          "metadata": {
            "tags": [],
            "needs_background": "light"
          }
        }
      ]
    }
  ]
}